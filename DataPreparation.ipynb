{
 "cells": [
  {
   "cell_type": "code",
   "execution_count": 19,
   "metadata": {},
   "outputs": [],
   "source": [
    "import pandas as pd\n",
    "import numpy as np\n",
    "import h5py\n",
    "from PIL import Image\n",
    "import os\n",
    "import cv2\n",
    "import random\n",
    "import matplotlib.pyplot as plt\n",
    "from matplotlib import ticker\n",
    "import seaborn as sns\n",
    "from tqdm import tqdm\n",
    "import keras"
   ]
  },
  {
   "cell_type": "code",
   "execution_count": 20,
   "metadata": {},
   "outputs": [],
   "source": [
    "def count(l,n):\n",
    "    count = [0 for _ in range(n)]\n",
    "    for i in range(n):\n",
    "        count[i] = l.count(i)\n",
    "    return count\n",
    "def getCategory(name):\n",
    "    for i,elm in enumerate(block_annotation[0]):\n",
    "        if elm ==name :\n",
    "            return block_annotation[1][i]\n",
    "    return -1\n",
    "\n",
    "def one_hot_n(x,n):\n",
    "    arr = [0 for _ in range(n)]\n",
    "    arr[x] = 1\n",
    "    return np.array(arr);\n",
    "\n",
    "def one_hot(x):\n",
    "    return one_hot_n(x,N_categories)\n"
   ]
  },
  {
   "cell_type": "code",
   "execution_count": 21,
   "metadata": {},
   "outputs": [],
   "source": [
    "N_categories = 5"
   ]
  },
  {
   "cell_type": "code",
   "execution_count": 22,
   "metadata": {},
   "outputs": [],
   "source": [
    "block_annotation = pd.read_csv('block_annotation.csv',header=None)"
   ]
  },
  {
   "cell_type": "code",
   "execution_count": 23,
   "metadata": {},
   "outputs": [
    {
     "name": "stdout",
     "output_type": "stream",
     "text": [
      "(1587, 2)\n"
     ]
    },
    {
     "data": {
      "text/html": [
       "<div>\n",
       "<style scoped>\n",
       "    .dataframe tbody tr th:only-of-type {\n",
       "        vertical-align: middle;\n",
       "    }\n",
       "\n",
       "    .dataframe tbody tr th {\n",
       "        vertical-align: top;\n",
       "    }\n",
       "\n",
       "    .dataframe thead th {\n",
       "        text-align: right;\n",
       "    }\n",
       "</style>\n",
       "<table border=\"1\" class=\"dataframe\">\n",
       "  <thead>\n",
       "    <tr style=\"text-align: right;\">\n",
       "      <th></th>\n",
       "      <th>0</th>\n",
       "      <th>1</th>\n",
       "    </tr>\n",
       "  </thead>\n",
       "  <tbody>\n",
       "    <tr>\n",
       "      <th>0</th>\n",
       "      <td>20072019_ND9_ND11_DIV0-1_Daam1_aTub_Phallo_19_...</td>\n",
       "      <td>2</td>\n",
       "    </tr>\n",
       "    <tr>\n",
       "      <th>1</th>\n",
       "      <td>20072019_ND9_ND11_DIV0-1_Daam1_aTub_Phallo_27_...</td>\n",
       "      <td>4</td>\n",
       "    </tr>\n",
       "    <tr>\n",
       "      <th>2</th>\n",
       "      <td>20072019_ND9_ND11_DIV0-1_Daam1_aTub_Phallo_21_...</td>\n",
       "      <td>4</td>\n",
       "    </tr>\n",
       "    <tr>\n",
       "      <th>3</th>\n",
       "      <td>ND8_DIV0+4h_20x_noConfinment_5_ch_4_174.tif</td>\n",
       "      <td>1</td>\n",
       "    </tr>\n",
       "    <tr>\n",
       "      <th>4</th>\n",
       "      <td>20072019_ND9_ND11_DIV0-1_Daam1_aTub_Phallo_8_c...</td>\n",
       "      <td>0</td>\n",
       "    </tr>\n",
       "  </tbody>\n",
       "</table>\n",
       "</div>"
      ],
      "text/plain": [
       "                                                   0  1\n",
       "0  20072019_ND9_ND11_DIV0-1_Daam1_aTub_Phallo_19_...  2\n",
       "1  20072019_ND9_ND11_DIV0-1_Daam1_aTub_Phallo_27_...  4\n",
       "2  20072019_ND9_ND11_DIV0-1_Daam1_aTub_Phallo_21_...  4\n",
       "3        ND8_DIV0+4h_20x_noConfinment_5_ch_4_174.tif  1\n",
       "4  20072019_ND9_ND11_DIV0-1_Daam1_aTub_Phallo_8_c...  0"
      ]
     },
     "execution_count": 23,
     "metadata": {},
     "output_type": "execute_result"
    }
   ],
   "source": [
    "print(block_annotation.shape)\n",
    "block_annotation.head()"
   ]
  },
  {
   "cell_type": "code",
   "execution_count": 24,
   "metadata": {},
   "outputs": [
    {
     "name": "stdout",
     "output_type": "stream",
     "text": [
      "[175, 290, 326, 220, 576]\n"
     ]
    }
   ],
   "source": [
    "totals = count(block_annotation[1].tolist(),N_categories)\n",
    "print(totals)"
   ]
  },
  {
   "cell_type": "code",
   "execution_count": 25,
   "metadata": {},
   "outputs": [
    {
     "name": "stdout",
     "output_type": "stream",
     "text": [
      "175\n"
     ]
    }
   ],
   "source": [
    "Threshhold = min(totals)\n",
    "print(Threshhold)"
   ]
  },
  {
   "cell_type": "code",
   "execution_count": 26,
   "metadata": {},
   "outputs": [
    {
     "name": "stdout",
     "output_type": "stream",
     "text": [
      "2\n",
      "[0 0 1 0 0]\n"
     ]
    }
   ],
   "source": [
    "name = '20072019_ND9_ND11_DIV0-1_Daam1_aTub_Phallo_19_ch_4_141.tif'\n",
    "x = getCategory(name)\n",
    "print(x)\n",
    "print(one_hot(x))"
   ]
  },
  {
   "cell_type": "code",
   "execution_count": 27,
   "metadata": {},
   "outputs": [],
   "source": [
    "INPUT_DIR = 'blocks_25/'\n",
    "ROWS = 81\n",
    "COLS = 81\n",
    "ROWS2 = 64\n",
    "COLS2 = 64\n",
    "SIZE = 50\n",
    "CHANNELS = 3"
   ]
  },
  {
   "cell_type": "code",
   "execution_count": 28,
   "metadata": {},
   "outputs": [],
   "source": [
    "IMG_SIZE = 50\n",
    "def create_training_data_with_limit(limit,n):\n",
    "    totals = [0 for _ in range(n)]\n",
    "    for file in tqdm(os.listdir(INPUT_DIR)):\n",
    "        try:\n",
    "            class_num = getCategory(file)\n",
    "            if class_num == -1 :\n",
    "                continue\n",
    "            if totals[class_num]>=limit:\n",
    "                continue\n",
    "            file_path = INPUT_DIR+file\n",
    "            img = cv2.imread(file_path, cv2.IMREAD_COLOR)\n",
    "            new_array = cv2.resize(img, (IMG_SIZE, IMG_SIZE))\n",
    "            training_data.append([new_array,class_num])\n",
    "            totals[class_num] = totals[class_num] + 1\n",
    "        except Exception as e:\n",
    "            print(e)\n",
    "            \n",
    "def create_training_data():\n",
    "    for file in tqdm(os.listdir(INPUT_DIR)):\n",
    "        try:\n",
    "            class_num = getCategory(file)\n",
    "            if class_num > -1 :\n",
    "                file_path = INPUT_DIR+file\n",
    "                img = cv2.imread(file_path, cv2.IMREAD_COLOR)\n",
    "                new_array = cv2.resize(img, (IMG_SIZE, IMG_SIZE))\n",
    "                training_data.append([new_array,class_num])\n",
    "        except Exception as e:\n",
    "            print(e)"
   ]
  },
  {
   "cell_type": "code",
   "execution_count": 30,
   "metadata": {},
   "outputs": [
    {
     "data": {
      "image/png": "[encoded data removed]",
      "text/plain": [
       "<Figure size 432x288 with 1 Axes>"
      ]
     },
     "metadata": {
      "needs_background": "light"
     },
     "output_type": "display_data"
    },
    {
     "name": "stdout",
     "output_type": "stream",
     "text": [
      "(51, 51, 3)\n"
     ]
    }
   ],
   "source": [
    "file_path = 'blocks_25/20072019_ND9_ND11_DIV0-1_Daam1_aTub_Phallo_16_ch_4_54.tif'\n",
    "img = cv2.imread(file_path, cv2.IMREAD_COLOR)\n",
    "plt.imshow(img)\n",
    "plt.show()\n",
    "print(img.shape)"
   ]
  },
  {
   "cell_type": "code",
   "execution_count": 38,
   "metadata": {},
   "outputs": [
    {
     "name": "stderr",
     "output_type": "stream",
     "text": [
      "100%|██████████| 7983/7983 [00:02<00:00, 3149.77it/s]\n"
     ]
    },
    {
     "data": {
      "text/plain": [
       "875"
      ]
     },
     "execution_count": 38,
     "metadata": {},
     "output_type": "execute_result"
    }
   ],
   "source": [
    "training_data = []\n",
    "create_training_data_with_limit(Threshhold, N_categories)\n",
    "# create_training_data()\n",
    "len(training_data)"
   ]
  },
  {
   "cell_type": "code",
   "execution_count": 39,
   "metadata": {},
   "outputs": [],
   "source": [
    "random.shuffle(training_data)"
   ]
  },
  {
   "cell_type": "code",
   "execution_count": 40,
   "metadata": {},
   "outputs": [
    {
     "name": "stdout",
     "output_type": "stream",
     "text": [
      "4\n",
      "3\n",
      "4\n",
      "4\n",
      "2\n",
      "1\n",
      "4\n",
      "2\n",
      "2\n",
      "0\n"
     ]
    }
   ],
   "source": [
    "for sample in training_data[:10]:\n",
    "    print(sample[1])"
   ]
  },
  {
   "cell_type": "code",
   "execution_count": 41,
   "metadata": {},
   "outputs": [
    {
     "data": {
      "image/png": "[encoded data removed]",
      "text/plain": [
       "<Figure size 432x288 with 1 Axes>"
      ]
     },
     "metadata": {
      "needs_background": "light"
     },
     "output_type": "display_data"
    },
    {
     "name": "stdout",
     "output_type": "stream",
     "text": [
      "4\n"
     ]
    },
    {
     "data": {
      "image/png": "[encoded data removed]",
      "text/plain": [
       "<Figure size 432x288 with 1 Axes>"
      ]
     },
     "metadata": {
      "needs_background": "light"
     },
     "output_type": "display_data"
    },
    {
     "name": "stdout",
     "output_type": "stream",
     "text": [
      "3\n"
     ]
    },
    {
     "data": {
      "image/png": "[encoded data removed]",
      "text/plain": [
       "<Figure size 432x288 with 1 Axes>"
      ]
     },
     "metadata": {
      "needs_background": "light"
     },
     "output_type": "display_data"
    },
    {
     "name": "stdout",
     "output_type": "stream",
     "text": [
      "4\n"
     ]
    },
    {
     "data": {
      "image/png": "[encoded data removed]",
      "text/plain": [
       "<Figure size 432x288 with 1 Axes>"
      ]
     },
     "metadata": {
      "needs_background": "light"
     },
     "output_type": "display_data"
    },
    {
     "name": "stdout",
     "output_type": "stream",
     "text": [
      "4\n"
     ]
    },
    {
     "data": {
      "image/png": "[encoded data removed]",
      "text/plain": [
       "<Figure size 432x288 with 1 Axes>"
      ]
     },
     "metadata": {
      "needs_background": "light"
     },
     "output_type": "display_data"
    },
    {
     "name": "stdout",
     "output_type": "stream",
     "text": [
      "2\n"
     ]
    }
   ],
   "source": [
    "def show_img(idx):\n",
    "#     category = [\"dog\",\"cat\"]\n",
    "    img = training_data[idx][0]\n",
    "    plt.imshow(img)\n",
    "    plt.show()\n",
    "    print(training_data[idx][1])\n",
    "    \n",
    "for idx in range(0,5):\n",
    "    show_img(idx)"
   ]
  },
  {
   "cell_type": "code",
   "execution_count": 42,
   "metadata": {},
   "outputs": [],
   "source": [
    "X = []\n",
    "y = []\n",
    "\n",
    "for features,label in training_data:\n",
    "    X.append(features)\n",
    "    y.append(label)\n",
    "\n",
    "X = np.array(X).reshape(-1,IMG_SIZE,IMG_SIZE,3)\n",
    "y = np.array(y).reshape(-1,1)"
   ]
  },
  {
   "cell_type": "code",
   "execution_count": 43,
   "metadata": {},
   "outputs": [],
   "source": [
    "import pickle\n",
    "\n",
    "pickle_out = open(\"X.pickle\",\"wb\")\n",
    "pickle.dump(X,pickle_out)\n",
    "pickle_out.close()\n",
    "\n",
    "pickle_out = open(\"y.pickle\",\"wb\")\n",
    "pickle.dump(y,pickle_out)\n",
    "pickle_out.close()"
   ]
  },
  {
   "cell_type": "code",
   "execution_count": 44,
   "metadata": {},
   "outputs": [
    {
     "name": "stdout",
     "output_type": "stream",
     "text": [
      "(875, 50, 50, 3)\n",
      "(875, 1)\n"
     ]
    }
   ],
   "source": [
    "print(X.shape) \n",
    "print(y.shape)"
   ]
  },
  {
   "cell_type": "code",
   "execution_count": null,
   "metadata": {},
   "outputs": [],
   "source": []
  }
 ],
 "metadata": {
  "kernelspec": {
   "display_name": "Py tfgpu",
   "language": "python",
   "name": "tf_gpu"
  },
  "language_info": {
   "codemirror_mode": {
    "name": "ipython",
    "version": 3
   },
   "file_extension": ".py",
   "mimetype": "text/x-python",
   "name": "python",
   "nbconvert_exporter": "python",
   "pygments_lexer": "ipython3",
   "version": "3.7.1"
  }
 },
 "nbformat": 4,
 "nbformat_minor": 2
}
