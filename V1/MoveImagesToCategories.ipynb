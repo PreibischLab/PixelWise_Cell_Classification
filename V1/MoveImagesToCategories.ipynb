{
 "cells": [
  {
   "cell_type": "code",
   "execution_count": null,
   "metadata": {},
   "outputs": [],
   "source": []
  },
  {
   "cell_type": "code",
   "execution_count": 21,
   "metadata": {},
   "outputs": [],
   "source": [
    "import pandas as pd\n",
    "import numpy as np\n",
    "import h5py\n",
    "from PIL import Image\n",
    "import os\n",
    "import cv2\n",
    "import random\n",
    "import matplotlib.pyplot as plt\n",
    "from matplotlib import ticker\n",
    "import seaborn as sns\n",
    "from tqdm import tqdm\n",
    "import os\n",
    "import shutil"
   ]
  },
  {
   "cell_type": "code",
   "execution_count": 22,
   "metadata": {},
   "outputs": [],
   "source": [
    "INPUT_DIR = 'data/raw/images/'\n",
    "# RESIZE = 50\n",
    "# CROP_SIZE = 38\n",
    "# IMG_SIZE = 38\n",
    "# CHANNELS = 3\n",
    "N_categories = 5"
   ]
  },
  {
   "cell_type": "code",
   "execution_count": 23,
   "metadata": {},
   "outputs": [],
   "source": [
    "def count(l,n):\n",
    "    count = [0 for _ in range(n)]\n",
    "    for i in range(n):\n",
    "        count[i] = l.count(i)\n",
    "    return count\n",
    "def getCategory(name):\n",
    "    for i,elm in enumerate(block_annotation[0]):\n",
    "        if elm ==name :\n",
    "            return block_annotation[1][i]\n",
    "    return -1\n",
    "def getPath(x,file):\n",
    "    return 'data/raw/image/'+str(x)+\"/\"+file\n",
    "\n",
    "            \n",
    "def moveall():\n",
    "    for file in tqdm(os.listdir(INPUT_DIR)):\n",
    "        try:\n",
    "            class_num = getCategory(file)\n",
    "            if class_num > -1 :\n",
    "                file_path = INPUT_DIR+file\n",
    "                os.rename(file_path,getPath(class_num,file))\n",
    "        except Exception as e:\n",
    "            print(e)"
   ]
  },
  {
   "cell_type": "code",
   "execution_count": 24,
   "metadata": {},
   "outputs": [
    {
     "name": "stdout",
     "output_type": "stream",
     "text": [
      "Shape:  (2282, 2)\n",
      "Totals:  [301, 493, 531, 329, 628]\n",
      "Threshold:  301\n"
     ]
    },
    {
     "data": {
      "text/html": [
       "<div>\n",
       "<style scoped>\n",
       "    .dataframe tbody tr th:only-of-type {\n",
       "        vertical-align: middle;\n",
       "    }\n",
       "\n",
       "    .dataframe tbody tr th {\n",
       "        vertical-align: top;\n",
       "    }\n",
       "\n",
       "    .dataframe thead th {\n",
       "        text-align: right;\n",
       "    }\n",
       "</style>\n",
       "<table border=\"1\" class=\"dataframe\">\n",
       "  <thead>\n",
       "    <tr style=\"text-align: right;\">\n",
       "      <th></th>\n",
       "      <th>0</th>\n",
       "      <th>1</th>\n",
       "    </tr>\n",
       "  </thead>\n",
       "  <tbody>\n",
       "    <tr>\n",
       "      <th>0</th>\n",
       "      <td>ND8_DIV0+4h_20x_noConfinment_6_ch_4_30.tif</td>\n",
       "      <td>2</td>\n",
       "    </tr>\n",
       "    <tr>\n",
       "      <th>1</th>\n",
       "      <td>20072019_ND9_ND11_DIV0-1_Daam1_aTub_Phallo_32_...</td>\n",
       "      <td>4</td>\n",
       "    </tr>\n",
       "    <tr>\n",
       "      <th>2</th>\n",
       "      <td>20072019_ND9_ND11_DIV0-1_Daam1_aTub_Phallo_31_...</td>\n",
       "      <td>4</td>\n",
       "    </tr>\n",
       "    <tr>\n",
       "      <th>3</th>\n",
       "      <td>20072019_ND9_ND11_DIV0-1_Daam1_aTub_Phallo_28_...</td>\n",
       "      <td>4</td>\n",
       "    </tr>\n",
       "    <tr>\n",
       "      <th>4</th>\n",
       "      <td>20072019_ND9_ND11_DIV0-1_Daam1_aTub_Phallo_10_...</td>\n",
       "      <td>0</td>\n",
       "    </tr>\n",
       "  </tbody>\n",
       "</table>\n",
       "</div>"
      ],
      "text/plain": [
       "                                                   0  1\n",
       "0         ND8_DIV0+4h_20x_noConfinment_6_ch_4_30.tif  2\n",
       "1  20072019_ND9_ND11_DIV0-1_Daam1_aTub_Phallo_32_...  4\n",
       "2  20072019_ND9_ND11_DIV0-1_Daam1_aTub_Phallo_31_...  4\n",
       "3  20072019_ND9_ND11_DIV0-1_Daam1_aTub_Phallo_28_...  4\n",
       "4  20072019_ND9_ND11_DIV0-1_Daam1_aTub_Phallo_10_...  0"
      ]
     },
     "execution_count": 24,
     "metadata": {},
     "output_type": "execute_result"
    }
   ],
   "source": [
    "block_annotation = pd.read_csv('data/raw/block_annotation2.csv',header=None)\n",
    "print(\"Shape: \",block_annotation.shape)\n",
    "totals = count(block_annotation[1].tolist(),N_categories)\n",
    "print(\"Totals: \",totals)\n",
    "Threshold = min(totals)\n",
    "print(\"Threshold: \",Threshold)\n",
    "block_annotation.head()"
   ]
  },
  {
   "cell_type": "code",
   "execution_count": null,
   "metadata": {},
   "outputs": [],
   "source": []
  },
  {
   "cell_type": "code",
   "execution_count": 25,
   "metadata": {},
   "outputs": [
    {
     "data": {
      "image/png": "[encoded data removed]",
      "text/plain": [
       "<Figure size 432x288 with 1 Axes>"
      ]
     },
     "metadata": {
      "needs_background": "light"
     },
     "output_type": "display_data"
    },
    {
     "name": "stdout",
     "output_type": "stream",
     "text": [
      "(51, 51, 3)\n",
      "-1\n"
     ]
    }
   ],
   "source": [
    "example = '20072019_ND9_ND11_DIV0-1_Daam1_aTub_Phallo_16_ch_4_54.tif'\n",
    "path_example = INPUT_DIR + example\n",
    "img = cv2.imread(path_example, cv2.IMREAD_COLOR)\n",
    "plt.imshow(img)\n",
    "plt.show()\n",
    "print(img.shape)\n",
    "x = getCategory(example)\n",
    "print(x)"
   ]
  },
  {
   "cell_type": "code",
   "execution_count": 26,
   "metadata": {},
   "outputs": [
    {
     "name": "stderr",
     "output_type": "stream",
     "text": [
      "100%|██████████| 6005/6005 [00:01<00:00, 3254.85it/s]\n"
     ]
    }
   ],
   "source": [
    "# training_data = []\n",
    "# create_training_data_with_limit(MAXS, N_categories)\n",
    "moveall()\n",
    "# len(training_data)"
   ]
  },
  {
   "cell_type": "code",
   "execution_count": 21,
   "metadata": {},
   "outputs": [
    {
     "data": {
      "text/plain": [
       "2282"
      ]
     },
     "execution_count": 21,
     "metadata": {},
     "output_type": "execute_result"
    }
   ],
   "source": [
    "#  sum(MAXS)"
   ]
  },
  {
   "cell_type": "code",
   "execution_count": 25,
   "metadata": {},
   "outputs": [
    {
     "data": {
      "image/png": "[encoded data removed]",
      "text/plain": [
       "<Figure size 432x288 with 1 Axes>"
      ]
     },
     "metadata": {
      "needs_background": "light"
     },
     "output_type": "display_data"
    },
    {
     "name": "stdout",
     "output_type": "stream",
     "text": [
      "(38, 38, 3)\n",
      "0\n"
     ]
    }
   ],
   "source": [
    "plt.imshow(training_data[2][0])\n",
    "plt.show()\n",
    "print(training_data[2][0].shape)\n",
    "# x = getCategory(name)\n",
    "print(training_data[2][1])"
   ]
  },
  {
   "cell_type": "code",
   "execution_count": 26,
   "metadata": {},
   "outputs": [],
   "source": [
    "random.shuffle(training_data)"
   ]
  },
  {
   "cell_type": "code",
   "execution_count": 27,
   "metadata": {},
   "outputs": [
    {
     "name": "stdout",
     "output_type": "stream",
     "text": [
      "(2279, 38, 38, 3)\n",
      "(2279, 1)\n"
     ]
    }
   ],
   "source": [
    "# import pickle\n",
    "\n",
    "# X = []\n",
    "# y = []\n",
    "\n",
    "# for features,label in training_data:\n",
    "#     X.append(features)\n",
    "#     y.append(label)\n",
    "\n",
    "# X = np.array(X).reshape(-1,IMG_SIZE,IMG_SIZE,3)\n",
    "# y = np.array(y).reshape(-1,1)\n",
    "\n",
    "\n",
    "\n",
    "# pickle_out = open(\"data/X2_weighted.pickle\",\"wb\")\n",
    "# pickle.dump(X,pickle_out)\n",
    "# pickle_out.close()\n",
    "\n",
    "# pickle_out = open(\"data/y2_weighted.pickle\",\"wb\")\n",
    "# pickle.dump(y,pickle_out)\n",
    "# pickle_out.close()\n",
    "\n",
    "# print(X.shape) \n",
    "# print(y.shape)"
   ]
  },
  {
   "cell_type": "code",
   "execution_count": null,
   "metadata": {},
   "outputs": [],
   "source": []
  }
 ],
 "metadata": {
  "kernelspec": {
   "display_name": "Python 3",
   "language": "python",
   "name": "python3"
  },
  "language_info": {
   "codemirror_mode": {
    "name": "ipython",
    "version": 3
   },
   "file_extension": ".py",
   "mimetype": "text/x-python",
   "name": "python",
   "nbconvert_exporter": "python",
   "pygments_lexer": "ipython3",
   "version": "3.7.6"
  }
 },
 "nbformat": 4,
 "nbformat_minor": 2
}
