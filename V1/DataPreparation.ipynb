{
 "cells": [
  {
   "cell_type": "code",
   "execution_count": null,
   "metadata": {},
   "outputs": [],
   "source": []
  },
  {
   "cell_type": "code",
   "execution_count": 1,
   "metadata": {},
   "outputs": [],
   "source": [
    "import pandas as pd\n",
    "import numpy as np\n",
    "import h5py\n",
    "from PIL import Image\n",
    "import os\n",
    "import cv2\n",
    "import random\n",
    "import matplotlib.pyplot as plt\n",
    "from matplotlib import ticker\n",
    "import seaborn as sns\n",
    "from tqdm import tqdm\n",
    "from tensorflow import keras"
   ]
  },
  {
   "cell_type": "code",
   "execution_count": 2,
   "metadata": {},
   "outputs": [],
   "source": [
    "INPUT_DIR = 'data/raw/blocks_25/'\n",
    "TO_IGNORE = 'ND8_DIV0+2h_3_ch_4'\n",
    "RESIZE = 51\n",
    "CROP_SIZE = 38\n",
    "IMG_SIZE = 38\n",
    "CHANNELS = 3\n",
    "N_categories = 5\n"
   ]
  },
  {
   "cell_type": "code",
   "execution_count": 11,
   "metadata": {},
   "outputs": [],
   "source": [
    "def count(l,n):\n",
    "    count = [0 for _ in range(n)]\n",
    "    for i in range(n):\n",
    "        count[i] = l.count(i)\n",
    "    return count\n",
    "def getCategory(name):\n",
    "    for i,elm in enumerate(block_annotation[0]):\n",
    "        if elm ==name :\n",
    "            return block_annotation[1][i]\n",
    "    return -1\n",
    "\n",
    "def one_hot_n(x,n):\n",
    "    arr = [0 for _ in range(n)]\n",
    "    arr[x] = 1\n",
    "    return np.array(arr);\n",
    "\n",
    "def one_hot(x):\n",
    "    return one_hot_n(x,N_categories)\n",
    "\n",
    "# def create_training_data_with_limit(limit,n):\n",
    "#     totals = [0 for _ in range(n)]\n",
    "#     for file in tqdm(os.listdir(INPUT_DIR)):\n",
    "#         try:\n",
    "#             class_num = getCategory(file)\n",
    "#             if class_num == -1 :\n",
    "#                 continue\n",
    "#             if totals[class_num]>=limit:\n",
    "#                 continue\n",
    "#             file_path = INPUT_DIR+file\n",
    "#             img = cv2.imread(file_path, cv2.IMREAD_COLOR)\n",
    "#             new_array = cv2.resize(img, (IMG_SIZE, IMG_SIZE))\n",
    "#             training_data.append([new_array,class_num])\n",
    "#             totals[class_num] = totals[class_num] + 1\n",
    "#         except Exception as e:\n",
    "#             print(e)\n",
    "            \n",
    "def create_training_data_with_limit(maxs,n):\n",
    "    totals = [0 for _ in range(n)]\n",
    "    dif = RESIZE - CROP_SIZE\n",
    "    x1 = int(dif/2)\n",
    "    x2 = int(RESIZE - dif/2)\n",
    "    \n",
    "    for file in tqdm(os.listdir(INPUT_DIR)):\n",
    "        try:\n",
    "            class_num = getCategory(file)\n",
    "            if class_num == -1 :\n",
    "                continue\n",
    "            if totals[class_num]>=maxs[class_num]:\n",
    "                continue\n",
    "            file_path = INPUT_DIR+file\n",
    "            img = cv2.imread(file_path, cv2.IMREAD_COLOR)\n",
    "            new_array = cv2.resize(img, (RESIZE, RESIZE))\n",
    "            im = new_array[x1:x2, x1:x2]\n",
    "            training_data.append([im,class_num])\n",
    "            totals[class_num] = totals[class_num] + 1\n",
    "        except Exception as e:\n",
    "            print(e)\n",
    "    print(\"Totals: \",totals)\n",
    "            \n",
    "def create_training_data():\n",
    "    training_data = []\n",
    "    totals = [0 for _ in range(N_categories)]\n",
    "    dropped = 0\n",
    "    for file in tqdm(os.listdir(INPUT_DIR)):\n",
    "        if TO_IGNORE in file:\n",
    "            print(\"To ignore: \",file)\n",
    "            continue\n",
    "        try:\n",
    "            class_num = getCategory(file)\n",
    "            if class_num > -1 :\n",
    "                file_path = INPUT_DIR+file\n",
    "                img = cv2.imread(file_path, cv2.IMREAD_COLOR)\n",
    "                if img.shape[0] != RESIZE or img.shape[1] != RESIZE :\n",
    "                    dropped = dropped +1\n",
    "                    print(\"Dropped  \", str(img.shape[0]),\"-\",str(img.shape[1]), \"  \",str(dropped))\n",
    "                else:\n",
    "#                 new_array = cv2.resize(img, (IMG_SIZE, IMG_SIZE))\n",
    "                    training_data.append([img,class_num])\n",
    "                    totals[class_num] = totals[class_num]+1\n",
    "        except Exception as e:\n",
    "            print(e)\n",
    "    return training_data,totals,dropped"
   ]
  },
  {
   "cell_type": "code",
   "execution_count": 12,
   "metadata": {},
   "outputs": [
    {
     "name": "stdout",
     "output_type": "stream",
     "text": [
      "Shape:  (2282, 2)\n",
      "Totals:  [301, 493, 531, 329, 628]\n",
      "Threshold:  301\n"
     ]
    },
    {
     "data": {
      "text/html": [
       "<div>\n",
       "<style scoped>\n",
       "    .dataframe tbody tr th:only-of-type {\n",
       "        vertical-align: middle;\n",
       "    }\n",
       "\n",
       "    .dataframe tbody tr th {\n",
       "        vertical-align: top;\n",
       "    }\n",
       "\n",
       "    .dataframe thead th {\n",
       "        text-align: right;\n",
       "    }\n",
       "</style>\n",
       "<table border=\"1\" class=\"dataframe\">\n",
       "  <thead>\n",
       "    <tr style=\"text-align: right;\">\n",
       "      <th></th>\n",
       "      <th>0</th>\n",
       "      <th>1</th>\n",
       "    </tr>\n",
       "  </thead>\n",
       "  <tbody>\n",
       "    <tr>\n",
       "      <th>0</th>\n",
       "      <td>ND8_DIV0+4h_20x_noConfinment_6_ch_4_30.tif</td>\n",
       "      <td>2</td>\n",
       "    </tr>\n",
       "    <tr>\n",
       "      <th>1</th>\n",
       "      <td>20072019_ND9_ND11_DIV0-1_Daam1_aTub_Phallo_32_...</td>\n",
       "      <td>4</td>\n",
       "    </tr>\n",
       "    <tr>\n",
       "      <th>2</th>\n",
       "      <td>20072019_ND9_ND11_DIV0-1_Daam1_aTub_Phallo_31_...</td>\n",
       "      <td>4</td>\n",
       "    </tr>\n",
       "    <tr>\n",
       "      <th>3</th>\n",
       "      <td>20072019_ND9_ND11_DIV0-1_Daam1_aTub_Phallo_28_...</td>\n",
       "      <td>4</td>\n",
       "    </tr>\n",
       "    <tr>\n",
       "      <th>4</th>\n",
       "      <td>20072019_ND9_ND11_DIV0-1_Daam1_aTub_Phallo_10_...</td>\n",
       "      <td>0</td>\n",
       "    </tr>\n",
       "  </tbody>\n",
       "</table>\n",
       "</div>"
      ],
      "text/plain": [
       "                                                   0  1\n",
       "0         ND8_DIV0+4h_20x_noConfinment_6_ch_4_30.tif  2\n",
       "1  20072019_ND9_ND11_DIV0-1_Daam1_aTub_Phallo_32_...  4\n",
       "2  20072019_ND9_ND11_DIV0-1_Daam1_aTub_Phallo_31_...  4\n",
       "3  20072019_ND9_ND11_DIV0-1_Daam1_aTub_Phallo_28_...  4\n",
       "4  20072019_ND9_ND11_DIV0-1_Daam1_aTub_Phallo_10_...  0"
      ]
     },
     "execution_count": 12,
     "metadata": {},
     "output_type": "execute_result"
    }
   ],
   "source": [
    "block_annotation = pd.read_csv('data/raw/block_annotation2.csv',header=None)\n",
    "print(\"Shape: \",block_annotation.shape)\n",
    "totals = count(block_annotation[1].tolist(),N_categories)\n",
    "print(\"Totals: \",totals)\n",
    "Threshold = min(totals)\n",
    "print(\"Threshold: \",Threshold)\n",
    "block_annotation.head()"
   ]
  },
  {
   "cell_type": "code",
   "execution_count": 13,
   "metadata": {},
   "outputs": [],
   "source": [
    "MAXS = [301, 493, 531, 329, 628]"
   ]
  },
  {
   "cell_type": "code",
   "execution_count": 14,
   "metadata": {},
   "outputs": [
    {
     "data": {
      "image/png": "[encoded data removed]",
      "text/plain": [
       "<Figure size 432x288 with 1 Axes>"
      ]
     },
     "metadata": {
      "needs_background": "light"
     },
     "output_type": "display_data"
    },
    {
     "name": "stdout",
     "output_type": "stream",
     "text": [
      "(51, 51, 3)\n",
      "-1\n",
      "[0 0 0 0 1]\n"
     ]
    }
   ],
   "source": [
    "example = '20072019_ND9_ND11_DIV0-1_Daam1_aTub_Phallo_16_ch_4_54.tif'\n",
    "path_example = INPUT_DIR + example\n",
    "img = cv2.imread(path_example, cv2.IMREAD_COLOR)\n",
    "plt.imshow(img)\n",
    "plt.show()\n",
    "print(img.shape)\n",
    "x = getCategory(example)\n",
    "print(x)\n",
    "print(one_hot(x))"
   ]
  },
  {
   "cell_type": "code",
   "execution_count": 15,
   "metadata": {},
   "outputs": [
    {
     "name": "stderr",
     "output_type": "stream",
     "text": [
      "  9%|▉         | 716/7983 [00:00<00:02, 3566.22it/s]"
     ]
    },
    {
     "name": "stdout",
     "output_type": "stream",
     "text": [
      "To ignore:  ND8_DIV0+2h_3_ch_4_31.tif\n",
      "Dropped   51 - 47    1\n",
      "Dropped   41 - 51    2\n",
      "Dropped   51 - 48    3\n",
      "Dropped   51 - 49    4\n",
      "Dropped   34 - 51    5\n",
      "Dropped   51 - 39    6\n",
      "To ignore:  ND8_DIV0+2h_3_ch_4_6.tif\n",
      "Dropped   51 - 50    7\n",
      "Dropped   51 - 49    8\n",
      "Dropped   51 - 49    9\n",
      "To ignore:  ND8_DIV0+2h_3_ch_4_24.tif\n",
      "Dropped   51 - 46    10\n",
      "To ignore:  ND8_DIV0+2h_3_ch_4_25.tif\n",
      "To ignore:  ND8_DIV0+2h_3_ch_4_14.tif\n"
     ]
    },
    {
     "name": "stderr",
     "output_type": "stream",
     "text": [
      " 18%|█▊        | 1459/7983 [00:00<00:01, 3635.17it/s]"
     ]
    },
    {
     "name": "stdout",
     "output_type": "stream",
     "text": [
      "Dropped   44 - 51    11\n",
      "Dropped   44 - 51    12\n",
      "Dropped   35 - 51    13\n",
      "Dropped   35 - 51    14\n",
      "Dropped   51 - 49    15\n",
      "To ignore:  ND8_DIV0+2h_3_ch_4_3.tif\n",
      "To ignore:  ND8_DIV0+2h_3_ch_4_33.tif\n",
      "To ignore:  ND8_DIV0+2h_3_ch_4_22.tif\n",
      "To ignore:  ND8_DIV0+2h_3_ch_4_20.tif\n",
      "Dropped   32 - 51    16\n",
      "Dropped   51 - 39    17\n"
     ]
    },
    {
     "name": "stderr",
     "output_type": "stream",
     "text": [
      " 28%|██▊       | 2208/7983 [00:00<00:01, 3687.54it/s]"
     ]
    },
    {
     "name": "stdout",
     "output_type": "stream",
     "text": [
      "To ignore:  ND8_DIV0+2h_3_ch_4_19.tif\n",
      "Dropped   46 - 51    18\n",
      "To ignore:  ND8_DIV0+2h_3_ch_4_17.tif\n",
      "To ignore:  ND8_DIV0+2h_3_ch_4_10.tif\n",
      "Dropped   51 - 48    19\n",
      "Dropped   42 - 51    20\n",
      "To ignore:  ND8_DIV0+2h_3_ch_4_1.tif\n",
      "Dropped   51 - 41    21\n",
      "To ignore:  ND8_DIV0+2h_3_ch_4_29.tif\n",
      "Dropped   45 - 51    22\n",
      "Dropped   51 - 42    23\n",
      "To ignore:  ND8_DIV0+2h_3_ch_4_12.tif\n"
     ]
    },
    {
     "name": "stderr",
     "output_type": "stream",
     "text": [
      " 37%|███▋      | 2953/7983 [00:00<00:01, 3708.59it/s]"
     ]
    },
    {
     "name": "stdout",
     "output_type": "stream",
     "text": [
      "To ignore:  ND8_DIV0+2h_3_ch_4_4.tif\n",
      "Dropped   39 - 51    24\n",
      "Dropped   51 - 39    25\n",
      "Dropped   51 - 40    26\n",
      "Dropped   51 - 37    27\n",
      "Dropped   41 - 51    28\n",
      "Dropped   34 - 51    29\n",
      "Dropped   47 - 51    30\n",
      "To ignore:  ND8_DIV0+2h_3_ch_4_32.tif\n",
      "Dropped   50 - 51    31\n",
      "Dropped   51 - 48    32\n",
      "Dropped   51 - 45    33\n"
     ]
    },
    {
     "name": "stderr",
     "output_type": "stream",
     "text": [
      " 46%|████▌     | 3675/7983 [00:01<00:01, 3663.30it/s]"
     ]
    },
    {
     "name": "stdout",
     "output_type": "stream",
     "text": [
      "Dropped   51 - 39    34\n",
      "Dropped   47 - 51    35\n",
      "Dropped   51 - 48    36\n",
      "Dropped   51 - 43    37\n",
      "Dropped   51 - 38    38\n",
      "Dropped   49 - 51    39\n",
      "To ignore:  ND8_DIV0+2h_3_ch_4_5.tif\n",
      "Dropped   51 - 42    40\n",
      "To ignore:  ND8_DIV0+2h_3_ch_4_23.tif\n",
      "To ignore:  ND8_DIV0+2h_3_ch_4_2.tif\n",
      "Dropped   44 - 51    41\n",
      "Dropped   51 - 41    42\n",
      "Dropped   51 - 38    43\n"
     ]
    },
    {
     "name": "stderr",
     "output_type": "stream",
     "text": [
      " 60%|█████▉    | 4750/7983 [00:01<00:00, 3482.98it/s]"
     ]
    },
    {
     "name": "stdout",
     "output_type": "stream",
     "text": [
      "Dropped   51 - 40    44\n",
      "To ignore:  ND8_DIV0+2h_3_ch_4_11.tif\n",
      "To ignore:  ND8_DIV0+2h_3_ch_4_30.tif\n",
      "Dropped   51 - 42    45\n",
      "Dropped   51 - 39    46\n",
      "Dropped   40 - 51    47\n",
      "To ignore:  ND8_DIV0+2h_3_ch_4_7.tif\n",
      "Dropped   39 - 51    48\n",
      "Dropped   44 - 51    49\n",
      "Dropped   51 - 39    50\n",
      "To ignore:  ND8_DIV0+2h_3_ch_4_0.tif\n",
      "Dropped   43 - 51    51\n",
      "Dropped   51 - 40    52\n"
     ]
    },
    {
     "name": "stderr",
     "output_type": "stream",
     "text": [
      " 69%|██████▊   | 5472/7983 [00:01<00:00, 3527.34it/s]"
     ]
    },
    {
     "name": "stdout",
     "output_type": "stream",
     "text": [
      "Dropped   51 - 45    53\n",
      "Dropped   51 - 50    54\n",
      "Dropped   51 - 36    55\n",
      "Dropped   39 - 51    56\n",
      "To ignore:  ND8_DIV0+2h_3_ch_4_15.tif\n",
      "Dropped   49 - 51    57\n",
      "Dropped   39 - 51    58\n",
      "Dropped   51 - 40    59\n",
      "Dropped   51 - 43    60\n",
      "Dropped   51 - 48    61\n",
      "Dropped   51 - 40    62\n",
      "Dropped   51 - 48    63\n"
     ]
    },
    {
     "name": "stderr",
     "output_type": "stream",
     "text": [
      " 78%|███████▊  | 6205/7983 [00:01<00:00, 3602.65it/s]"
     ]
    },
    {
     "name": "stdout",
     "output_type": "stream",
     "text": [
      "Dropped   51 - 37    64\n",
      "Dropped   51 - 46    65\n",
      "Dropped   51 - 43    66\n",
      "Dropped   51 - 45    67\n",
      "Dropped   43 - 51    68\n",
      "To ignore:  ND8_DIV0+2h_3_ch_4_21.tif\n",
      "Dropped   51 - 39    69\n",
      "To ignore:  ND8_DIV0+2h_3_ch_4_18.tif\n"
     ]
    },
    {
     "name": "stderr",
     "output_type": "stream",
     "text": [
      " 87%|████████▋ | 6953/7983 [00:01<00:00, 3668.03it/s]"
     ]
    },
    {
     "name": "stdout",
     "output_type": "stream",
     "text": [
      "To ignore:  ND8_DIV0+2h_3_ch_4_16.tif\n",
      "Dropped   51 - 41    70\n",
      "Dropped   43 - 51    71\n",
      "Dropped   51 - 41    72\n",
      "To ignore:  ND8_DIV0+2h_3_ch_4_28.tif\n",
      "Dropped   51 - 36    73\n",
      "To ignore:  ND8_DIV0+2h_3_ch_4_13.tif\n",
      "Dropped   50 - 51    74\n",
      "Dropped   51 - 45    75\n",
      "Dropped   51 - 36    76\n"
     ]
    },
    {
     "name": "stderr",
     "output_type": "stream",
     "text": [
      " 96%|█████████▋| 7697/7983 [00:02<00:00, 3680.84it/s]"
     ]
    },
    {
     "name": "stdout",
     "output_type": "stream",
     "text": [
      "Dropped   51 - 46    77\n",
      "Dropped   37 - 51    78\n",
      "To ignore:  ND8_DIV0+2h_3_ch_4_9.tif\n",
      "To ignore:  ND8_DIV0+2h_3_ch_4_26.tif\n",
      "Dropped   42 - 51    79\n",
      "Dropped   51 - 40    80\n",
      "To ignore:  ND8_DIV0+2h_3_ch_4_34.tif\n",
      "Dropped   44 - 51    81\n",
      "Dropped   37 - 51    82\n",
      "Dropped   51 - 47    83\n",
      "Dropped   51 - 44    84\n",
      "To ignore:  ND8_DIV0+2h_3_ch_4_27.tif\n",
      "To ignore:  ND8_DIV0+2h_3_ch_4_8.tif\n",
      "Dropped   51 - 41    85\n",
      "Dropped   51 - 44    86\n",
      "Dropped   51 - 46    87\n",
      "Dropped   51 - 49    88\n",
      "Dropped   51 - 50    89\n",
      "Dropped   51 - 39    90\n",
      "Dropped   34 - 51    91\n"
     ]
    },
    {
     "name": "stderr",
     "output_type": "stream",
     "text": [
      "\r",
      "100%|██████████| 7983/7983 [00:02<00:00, 3624.15it/s]"
     ]
    },
    {
     "name": "stdout",
     "output_type": "stream",
     "text": [
      "Dropped   51 - 35    92\n"
     ]
    },
    {
     "name": "stderr",
     "output_type": "stream",
     "text": [
      "\n"
     ]
    },
    {
     "data": {
      "text/plain": [
       "2174"
      ]
     },
     "execution_count": 15,
     "metadata": {},
     "output_type": "execute_result"
    }
   ],
   "source": [
    "\n",
    "# dropped = 0\n",
    "# create_training_data_with_limit(MAXS, N_categories)\n",
    "training_data , totals, dropped = create_training_data()\n",
    "len(training_data)"
   ]
  },
  {
   "cell_type": "code",
   "execution_count": 22,
   "metadata": {},
   "outputs": [
    {
     "name": "stdout",
     "output_type": "stream",
     "text": [
      "[286, 459, 512, 317, 600]\n",
      "2174\n",
      "92\n"
     ]
    }
   ],
   "source": [
    "print(totals)\n",
    "print(sum(totals))\n",
    "print(dropped)"
   ]
  },
  {
   "cell_type": "code",
   "execution_count": null,
   "metadata": {},
   "outputs": [],
   "source": []
  },
  {
   "cell_type": "code",
   "execution_count": 23,
   "metadata": {},
   "outputs": [
    {
     "data": {
      "image/png": "[encoded data removed]",
      "text/plain": [
       "<Figure size 432x288 with 1 Axes>"
      ]
     },
     "metadata": {
      "needs_background": "light"
     },
     "output_type": "display_data"
    },
    {
     "name": "stdout",
     "output_type": "stream",
     "text": [
      "(51, 51, 3)\n",
      "3\n"
     ]
    }
   ],
   "source": [
    "plt.imshow(training_data[2][0])\n",
    "plt.show()\n",
    "print(training_data[2][0].shape)\n",
    "# x = getCategory(name)\n",
    "print(training_data[2][1])"
   ]
  },
  {
   "cell_type": "code",
   "execution_count": 26,
   "metadata": {},
   "outputs": [],
   "source": [
    "random.shuffle(training_data)"
   ]
  },
  {
   "cell_type": "code",
   "execution_count": 27,
   "metadata": {},
   "outputs": [
    {
     "name": "stdout",
     "output_type": "stream",
     "text": [
      "(2174, 51, 51, 3)\n",
      "(2174, 1)\n"
     ]
    }
   ],
   "source": [
    "import pickle\n",
    "\n",
    "X = []\n",
    "y = []\n",
    "\n",
    "for features,label in training_data:\n",
    "    X.append(features)\n",
    "    y.append(label)\n",
    "\n",
    "X = np.array(X).reshape(-1,51,51,3)\n",
    "y = np.array(y).reshape(-1,1)\n",
    "\n",
    "\n",
    "\n",
    "pickle_out = open(\"data/X2_clean.pickle\",\"wb\")\n",
    "pickle.dump(X,pickle_out)\n",
    "pickle_out.close()\n",
    "\n",
    "pickle_out = open(\"data/y2_clean.pickle\",\"wb\")\n",
    "pickle.dump(y,pickle_out)\n",
    "pickle_out.close()\n",
    "\n",
    "print(X.shape) \n",
    "print(y.shape)"
   ]
  },
  {
   "cell_type": "code",
   "execution_count": null,
   "metadata": {},
   "outputs": [],
   "source": []
  }
 ],
 "metadata": {
  "kernelspec": {
   "display_name": "Python 3",
   "language": "python",
   "name": "python3"
  },
  "language_info": {
   "codemirror_mode": {
    "name": "ipython",
    "version": 3
   },
   "file_extension": ".py",
   "mimetype": "text/x-python",
   "name": "python",
   "nbconvert_exporter": "python",
   "pygments_lexer": "ipython3",
   "version": "3.7.6"
  }
 },
 "nbformat": 4,
 "nbformat_minor": 2
}
