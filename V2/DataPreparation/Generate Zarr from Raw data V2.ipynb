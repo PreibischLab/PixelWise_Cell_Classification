{
 "cells": [
  {
   "cell_type": "code",
   "execution_count": 99,
   "metadata": {},
   "outputs": [
    {
     "data": {
      "text/plain": [
       "<module 'utils' from '/tf/notebooks/PixelWise_Cell_Classification/V2/DataPreparation/utils.py'>"
      ]
     },
     "execution_count": 99,
     "metadata": {},
     "output_type": "execute_result"
    }
   ],
   "source": [
    "from utils import *\n",
    "from importlib import reload\n",
    "reload(utils)"
   ]
  },
  {
   "cell_type": "markdown",
   "metadata": {},
   "source": [
    "### All Paths"
   ]
  },
  {
   "cell_type": "code",
   "execution_count": 100,
   "metadata": {},
   "outputs": [],
   "source": [
    "CSV_FOLDER = '../../../../data/cells/raw/csv/'\n",
    "INSTANCES_FOLDER = '../../../../data/cells/raw/masks/'\n",
    "INPUT_FOLDER = '../../../../data/cells/raw/input/'\n",
    "\n",
    "ZARR_FOLDER = '../../../../data/cells/raw/zarr/'\n",
    "RAW = 'raw'\n",
    "INSTANCES = 'instances'\n",
    "GT = 'ground_truth'"
   ]
  },
  {
   "cell_type": "markdown",
   "metadata": {},
   "source": [
    "### Generate Zarr"
   ]
  },
  {
   "cell_type": "code",
   "execution_count": 101,
   "metadata": {},
   "outputs": [
    {
     "name": "stdout",
     "output_type": "stream",
     "text": [
      "0 - ../../../../data/cells/raw/zarr/20072019_ND9_ND11_DIV0-1_Daam1_aTub_Phallo_8_ch_4.zarr\n",
      "Reading image: ../../../../data/cells/raw/input/20072019_ND9_ND11_DIV0-1_Daam1_aTub_Phallo_8_ch_4.tif\n",
      "Reading image: ../../../../data/cells/raw/masks/20072019_ND9_ND11_DIV0-1_Daam1_aTub_Phallo_8_ch_4_0_204.tif\n",
      "Reading image: ../../../../data/cells/raw/masks/20072019_ND9_ND11_DIV0-1_Daam1_aTub_Phallo_8_ch_4_0_204.tif\n",
      "The value to be activated in mask: [0 1 2 3] \n",
      "Img size        : (1024, 1024, 4) uint8 < 255\n",
      "Instances size  : (1024, 1024) int32 < 204\n",
      "Categories size : (1024, 1024, 4) int64 < 4\n",
      "After normalization: \n",
      "Img size        : (1024, 1024, 4) float32 < 1.0\n",
      "Categories size : (1024, 1024, 4) float32 < 1.0\n",
      "1 - ../../../../data/cells/raw/zarr/20072019_ND9_ND11_DIV0-1_Daam1_aTub_Phallo_1_ch_4.zarr\n",
      "Reading image: ../../../../data/cells/raw/input/20072019_ND9_ND11_DIV0-1_Daam1_aTub_Phallo_1_ch_4.tif\n",
      "Reading image: ../../../../data/cells/raw/masks/20072019_ND9_ND11_DIV0-1_Daam1_aTub_Phallo_1_ch_4_0_166.tif\n",
      "Reading image: ../../../../data/cells/raw/masks/20072019_ND9_ND11_DIV0-1_Daam1_aTub_Phallo_1_ch_4_0_166.tif\n",
      "The value to be activated in mask: [0 1 2 3] \n",
      "Img size        : (1024, 1024, 4) uint8 < 255\n",
      "Instances size  : (1024, 1024) int32 < 166\n",
      "Categories size : (1024, 1024, 4) int64 < 3\n",
      "After normalization: \n",
      "Img size        : (1024, 1024, 4) float32 < 1.0\n",
      "Categories size : (1024, 1024, 4) float32 < 1.0\n",
      "2 - ../../../../data/cells/raw/zarr/20072019_ND9_ND11_DIV0-1_Daam1_aTub_Phallo_2_ch_4.zarr\n",
      "Reading image: ../../../../data/cells/raw/input/20072019_ND9_ND11_DIV0-1_Daam1_aTub_Phallo_2_ch_4.tif\n",
      "Reading image: ../../../../data/cells/raw/masks/20072019_ND9_ND11_DIV0-1_Daam1_aTub_Phallo_2_ch_4_0_90.tif\n",
      "Reading image: ../../../../data/cells/raw/masks/20072019_ND9_ND11_DIV0-1_Daam1_aTub_Phallo_2_ch_4_0_90.tif\n",
      "The value to be activated in mask: [0 1 2 3] \n",
      "Img size        : (1024, 1024, 4) uint8 < 255\n",
      "Instances size  : (1024, 1024) int32 < 90\n",
      "Categories size : (1024, 1024, 4) int64 < 4\n",
      "After normalization: \n",
      "Img size        : (1024, 1024, 4) float32 < 1.0\n",
      "Categories size : (1024, 1024, 4) float32 < 1.0\n",
      "3 - ../../../../data/cells/raw/zarr/ND8_DIV0+4h_20x_noConfinment_5_ch_4.zarr\n",
      "Reading image: ../../../../data/cells/raw/input/ND8_DIV0+4h_20x_noConfinment_5_ch_4.tif\n",
      "Reading image: ../../../../data/cells/raw/masks/ND8_DIV0+4h_20x_noConfinment_5_ch_4_0_412.tif\n",
      "Reading image: ../../../../data/cells/raw/masks/ND8_DIV0+4h_20x_noConfinment_5_ch_4_0_412.tif\n",
      "The value to be activated in mask: [0 1 2 3] \n",
      "Img size        : (1024, 1024, 4) uint8 < 255\n",
      "Instances size  : (1024, 1024) int32 < 412\n",
      "Categories size : (1024, 1024, 4) int64 < 4\n",
      "After normalization: \n",
      "Img size        : (1024, 1024, 4) float32 < 1.0\n",
      "Categories size : (1024, 1024, 4) float32 < 1.0\n",
      "4 - ../../../../data/cells/raw/zarr/20072019_ND9_ND11_DIV0-1_Daam1_aTub_Phallo_18_ch_4.zarr\n",
      "Reading image: ../../../../data/cells/raw/input/20072019_ND9_ND11_DIV0-1_Daam1_aTub_Phallo_18_ch_4.tif\n",
      "Reading image: ../../../../data/cells/raw/masks/20072019_ND9_ND11_DIV0-1_Daam1_aTub_Phallo_18_ch_4_0_149.tif\n",
      "Reading image: ../../../../data/cells/raw/masks/20072019_ND9_ND11_DIV0-1_Daam1_aTub_Phallo_18_ch_4_0_149.tif\n",
      "The value to be activated in mask: [0 1 2 3] \n",
      "Img size        : (1024, 1024, 4) uint8 < 255\n",
      "Instances size  : (1024, 1024) int32 < 149\n",
      "Categories size : (1024, 1024, 4) int64 < 4\n",
      "After normalization: \n",
      "Img size        : (1024, 1024, 4) float32 < 1.0\n",
      "Categories size : (1024, 1024, 4) float32 < 1.0\n",
      "5 - ../../../../data/cells/raw/zarr/20072019_ND9_ND11_DIV0-1_Daam1_aTub_Phallo_15_ch_4.zarr\n",
      "Reading image: ../../../../data/cells/raw/input/20072019_ND9_ND11_DIV0-1_Daam1_aTub_Phallo_15_ch_4.tif\n",
      "Reading image: ../../../../data/cells/raw/masks/20072019_ND9_ND11_DIV0-1_Daam1_aTub_Phallo_15_ch_4_0_156.tif\n",
      "Reading image: ../../../../data/cells/raw/masks/20072019_ND9_ND11_DIV0-1_Daam1_aTub_Phallo_15_ch_4_0_156.tif\n",
      "The value to be activated in mask: [0 1 2 3] \n",
      "Img size        : (1024, 1024, 4) uint8 < 255\n",
      "Instances size  : (1024, 1024) int32 < 156\n",
      "Categories size : (1024, 1024, 4) int64 < 4\n",
      "After normalization: \n",
      "Img size        : (1024, 1024, 4) float32 < 1.0\n",
      "Categories size : (1024, 1024, 4) float32 < 1.0\n",
      "6 - ../../../../data/cells/raw/zarr/20072019_ND9_ND11_DIV0-1_Daam1_aTub_Phallo_4_ch_4.zarr\n",
      "Reading image: ../../../../data/cells/raw/input/20072019_ND9_ND11_DIV0-1_Daam1_aTub_Phallo_4_ch_4.tif\n",
      "Reading image: ../../../../data/cells/raw/masks/20072019_ND9_ND11_DIV0-1_Daam1_aTub_Phallo_4_ch_4_0_159.tif\n",
      "Reading image: ../../../../data/cells/raw/masks/20072019_ND9_ND11_DIV0-1_Daam1_aTub_Phallo_4_ch_4_0_159.tif\n",
      "The value to be activated in mask: [0 1 2 3] \n",
      "Img size        : (1024, 1024, 4) uint8 < 255\n",
      "Instances size  : (1024, 1024) int32 < 159\n",
      "Categories size : (1024, 1024, 4) int64 < 4\n",
      "After normalization: \n",
      "Img size        : (1024, 1024, 4) float32 < 1.0\n",
      "Categories size : (1024, 1024, 4) float32 < 1.0\n"
     ]
    }
   ],
   "source": [
    "utils.create_zarr_per_pair(INPUT_FOLDER,INSTANCES_FOLDER,CSV_FOLDER,ZARR_FOLDER)"
   ]
  },
  {
   "cell_type": "markdown",
   "metadata": {},
   "source": [
    "### Test"
   ]
  },
  {
   "cell_type": "code",
   "execution_count": 102,
   "metadata": {},
   "outputs": [],
   "source": [
    "ZARR_PATH = os.path.join(ZARR_FOLDER,os.listdir(ZARR_FOLDER)[3])\n",
    "file = zarr.open(ZARR_PATH, mode='r')"
   ]
  },
  {
   "cell_type": "code",
   "execution_count": 103,
   "metadata": {},
   "outputs": [
    {
     "data": {
      "text/plain": [
       "<matplotlib.image.AxesImage at 0x7f515c21e470>"
      ]
     },
     "execution_count": 103,
     "metadata": {},
     "output_type": "execute_result"
    },
    {
     "data": {
      "image/png": "[encoded data removed]",
      "text/plain": [
       "<Figure size 432x288 with 1 Axes>"
      ]
     },
     "metadata": {
      "needs_background": "light"
     },
     "output_type": "display_data"
    }
   ],
   "source": [
    "plt.imshow(file[GT][:,:,1])"
   ]
  },
  {
   "cell_type": "code",
   "execution_count": 104,
   "metadata": {},
   "outputs": [
    {
     "name": "stdout",
     "output_type": "stream",
     "text": [
      "(1024, 1024, 4)\n",
      "float32\n"
     ]
    }
   ],
   "source": [
    "print(file[RAW].shape)\n",
    "print(file[RAW].dtype)"
   ]
  },
  {
   "cell_type": "code",
   "execution_count": 105,
   "metadata": {},
   "outputs": [
    {
     "name": "stdout",
     "output_type": "stream",
     "text": [
      "(1024, 1024, 4)\n",
      "float32\n"
     ]
    }
   ],
   "source": [
    "print(file[GT].shape)\n",
    "print(file[GT].dtype)"
   ]
  },
  {
   "cell_type": "code",
   "execution_count": 106,
   "metadata": {},
   "outputs": [
    {
     "name": "stdout",
     "output_type": "stream",
     "text": [
      "(1024, 1024)\n",
      "int32\n"
     ]
    }
   ],
   "source": [
    "print(file[INSTANCES].shape)\n",
    "print(file[INSTANCES].dtype)"
   ]
  },
  {
   "cell_type": "code",
   "execution_count": null,
   "metadata": {},
   "outputs": [],
   "source": []
  },
  {
   "cell_type": "code",
   "execution_count": null,
   "metadata": {},
   "outputs": [],
   "source": []
  },
  {
   "cell_type": "code",
   "execution_count": 107,
   "metadata": {},
   "outputs": [],
   "source": [
    "# INPUT_FOLDER,INSTANCES_FOLDER,CSV_FOLDER,ZARR_FOLDER\n",
    "pairs = generate_pairs(CSV_FOLDER,INSTANCES_FOLDER)"
   ]
  },
  {
   "cell_type": "code",
   "execution_count": 108,
   "metadata": {},
   "outputs": [],
   "source": [
    "csv = list(pairs.keys())[2]\n",
    "inst = pairs[csv]"
   ]
  },
  {
   "cell_type": "code",
   "execution_count": null,
   "metadata": {},
   "outputs": [],
   "source": []
  },
  {
   "cell_type": "code",
   "execution_count": 109,
   "metadata": {},
   "outputs": [
    {
     "data": {
      "text/plain": [
       "<matplotlib.image.AxesImage at 0x7f515c16ec88>"
      ]
     },
     "execution_count": 109,
     "metadata": {},
     "output_type": "execute_result"
    },
    {
     "data": {
      "image/png": "[encoded data removed]",
      "text/plain": [
       "<Figure size 432x288 with 1 Axes>"
      ]
     },
     "metadata": {
      "needs_background": "light"
     },
     "output_type": "display_data"
    }
   ],
   "source": [
    "plt.imshow(im_categ)"
   ]
  },
  {
   "cell_type": "code",
   "execution_count": 110,
   "metadata": {},
   "outputs": [
    {
     "name": "stdout",
     "output_type": "stream",
     "text": [
      "Reading image: ../../../../data/cells/raw/masks/20072019_ND9_ND11_DIV0-1_Daam1_aTub_Phallo_8_ch_4_0_204.tif\n",
      "[-1  0  1  2  4]\n",
      "Reading image: ../../../../data/cells/raw/masks/20072019_ND9_ND11_DIV0-1_Daam1_aTub_Phallo_1_ch_4_0_166.tif\n",
      "[-1  0  1  2  3]\n",
      "Reading image: ../../../../data/cells/raw/masks/20072019_ND9_ND11_DIV0-1_Daam1_aTub_Phallo_2_ch_4_0_90.tif\n",
      "[0 1 2 4]\n",
      "Reading image: ../../../../data/cells/raw/masks/ND8_DIV0+4h_20x_noConfinment_5_ch_4_0_412.tif\n",
      "[0 1 2 3 4]\n",
      "Reading image: ../../../../data/cells/raw/masks/20072019_ND9_ND11_DIV0-1_Daam1_aTub_Phallo_18_ch_4_0_149.tif\n",
      "[0 1 2 3 4]\n",
      "Reading image: ../../../../data/cells/raw/masks/20072019_ND9_ND11_DIV0-1_Daam1_aTub_Phallo_15_ch_4_0_156.tif\n",
      "[0 1 2 3 4]\n",
      "Reading image: ../../../../data/cells/raw/masks/20072019_ND9_ND11_DIV0-1_Daam1_aTub_Phallo_4_ch_4_0_159.tif\n",
      "[0 1 2 3 4]\n"
     ]
    }
   ],
   "source": [
    "for csv,inst in pairs.items():\n",
    "    im_categ = generateCategoryImage(inst,csv)\n",
    "    vals = np.unique(im_categ)\n",
    "    print(vals)\n"
   ]
  },
  {
   "cell_type": "code",
   "execution_count": 119,
   "metadata": {},
   "outputs": [],
   "source": [
    "normalized_mask = normalize_mask(im_categ,np.array([0,1,2,3]))"
   ]
  },
  {
   "cell_type": "code",
   "execution_count": 125,
   "metadata": {},
   "outputs": [
    {
     "data": {
      "text/plain": [
       "<matplotlib.image.AxesImage at 0x7f515d4beac8>"
      ]
     },
     "execution_count": 125,
     "metadata": {},
     "output_type": "execute_result"
    },
    {
     "data": {
      "image/png": "[encoded data removed]",
      "text/plain": [
       "<Figure size 432x288 with 1 Axes>"
      ]
     },
     "metadata": {
      "needs_background": "light"
     },
     "output_type": "display_data"
    }
   ],
   "source": [
    "plt.imshow(normalized_mask[:,:,3])"
   ]
  },
  {
   "cell_type": "code",
   "execution_count": 124,
   "metadata": {},
   "outputs": [
    {
     "data": {
      "text/plain": [
       "(1024, 1024, 4)"
      ]
     },
     "execution_count": 124,
     "metadata": {},
     "output_type": "execute_result"
    }
   ],
   "source": [
    "normalized_mask.shape"
   ]
  },
  {
   "cell_type": "code",
   "execution_count": null,
   "metadata": {},
   "outputs": [],
   "source": []
  }
 ],
 "metadata": {
  "kernelspec": {
   "display_name": "Python 3",
   "language": "python",
   "name": "python3"
  },
  "language_info": {
   "codemirror_mode": {
    "name": "ipython",
    "version": 3
   },
   "file_extension": ".py",
   "mimetype": "text/x-python",
   "name": "python",
   "nbconvert_exporter": "python",
   "pygments_lexer": "ipython3",
   "version": "3.6.8"
  }
 },
 "nbformat": 4,
 "nbformat_minor": 2
}
