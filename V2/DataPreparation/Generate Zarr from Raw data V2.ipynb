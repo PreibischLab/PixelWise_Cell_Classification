{
 "cells": [
  {
   "cell_type": "code",
   "execution_count": 1,
   "metadata": {},
   "outputs": [],
   "source": [
    "import utils\n",
    "from importlib import reload\n",
    "# reload(utils)"
   ]
  },
  {
   "cell_type": "markdown",
   "metadata": {},
   "source": [
    "### All Paths"
   ]
  },
  {
   "cell_type": "code",
   "execution_count": 2,
   "metadata": {},
   "outputs": [],
   "source": [
    "CSV_FOLDER = '../../../../data/cells/raw/csv/'\n",
    "INSTANCES_FOLDER = '../../../../data/cells/raw/masks/'\n",
    "INPUT_FOLDER = '../../../../data/cells/raw/input/'\n",
    "\n",
    "ZARR_FOLDER = '../../../../data/cells/raw/zarr2/'\n",
    "RAW = 'raw'\n",
    "INSTANCES = 'instances'\n",
    "GT = 'ground_truth'"
   ]
  },
  {
   "cell_type": "markdown",
   "metadata": {},
   "source": [
    "### Generate Zarr"
   ]
  },
  {
   "cell_type": "code",
   "execution_count": 3,
   "metadata": {},
   "outputs": [
    {
     "name": "stdout",
     "output_type": "stream",
     "text": [
      "0 - ../../../../data/cells/raw/zarr2/20072019_ND9_ND11_DIV0-1_Daam1_aTub_Phallo_8_ch_4.zarr\n",
      "Reading image: ../../../../data/cells/raw/input/20072019_ND9_ND11_DIV0-1_Daam1_aTub_Phallo_8_ch_4.tif\n",
      "Reading image: ../../../../data/cells/raw/masks/20072019_ND9_ND11_DIV0-1_Daam1_aTub_Phallo_8_ch_4_0_204.tif\n",
      "Reading image: ../../../../data/cells/raw/masks/20072019_ND9_ND11_DIV0-1_Daam1_aTub_Phallo_8_ch_4_0_204.tif\n",
      "The value to be activated in mask: [1 2 3] \n",
      "After normalization: \n",
      "Img size        : (1024, 1024, 4) float32 < 1.0\n",
      "Categories size : (1024, 1024, 3) float32 < 1.0\n",
      "1 - ../../../../data/cells/raw/zarr2/20072019_ND9_ND11_DIV0-1_Daam1_aTub_Phallo_1_ch_4.zarr\n",
      "Reading image: ../../../../data/cells/raw/input/20072019_ND9_ND11_DIV0-1_Daam1_aTub_Phallo_1_ch_4.tif\n",
      "Reading image: ../../../../data/cells/raw/masks/20072019_ND9_ND11_DIV0-1_Daam1_aTub_Phallo_1_ch_4_0_166.tif\n",
      "Reading image: ../../../../data/cells/raw/masks/20072019_ND9_ND11_DIV0-1_Daam1_aTub_Phallo_1_ch_4_0_166.tif\n",
      "The value to be activated in mask: [1 2 3] \n",
      "After normalization: \n",
      "Img size        : (1024, 1024, 4) float32 < 1.0\n",
      "Categories size : (1024, 1024, 3) float32 < 1.0\n",
      "2 - ../../../../data/cells/raw/zarr2/20072019_ND9_ND11_DIV0-1_Daam1_aTub_Phallo_2_ch_4.zarr\n",
      "Reading image: ../../../../data/cells/raw/input/20072019_ND9_ND11_DIV0-1_Daam1_aTub_Phallo_2_ch_4.tif\n",
      "Reading image: ../../../../data/cells/raw/masks/20072019_ND9_ND11_DIV0-1_Daam1_aTub_Phallo_2_ch_4_0_90.tif\n",
      "Reading image: ../../../../data/cells/raw/masks/20072019_ND9_ND11_DIV0-1_Daam1_aTub_Phallo_2_ch_4_0_90.tif\n",
      "The value to be activated in mask: [1 2 3] \n",
      "After normalization: \n",
      "Img size        : (1024, 1024, 4) float32 < 1.0\n",
      "Categories size : (1024, 1024, 3) float32 < 1.0\n",
      "3 - ../../../../data/cells/raw/zarr2/ND8_DIV0+4h_20x_noConfinment_5_ch_4.zarr\n",
      "Reading image: ../../../../data/cells/raw/input/ND8_DIV0+4h_20x_noConfinment_5_ch_4.tif\n",
      "Reading image: ../../../../data/cells/raw/masks/ND8_DIV0+4h_20x_noConfinment_5_ch_4_0_412.tif\n",
      "Reading image: ../../../../data/cells/raw/masks/ND8_DIV0+4h_20x_noConfinment_5_ch_4_0_412.tif\n",
      "The value to be activated in mask: [1 2 3] \n",
      "After normalization: \n",
      "Img size        : (1024, 1024, 4) float32 < 1.0\n",
      "Categories size : (1024, 1024, 3) float32 < 1.0\n",
      "4 - ../../../../data/cells/raw/zarr2/20072019_ND9_ND11_DIV0-1_Daam1_aTub_Phallo_18_ch_4.zarr\n",
      "Reading image: ../../../../data/cells/raw/input/20072019_ND9_ND11_DIV0-1_Daam1_aTub_Phallo_18_ch_4.tif\n",
      "Reading image: ../../../../data/cells/raw/masks/20072019_ND9_ND11_DIV0-1_Daam1_aTub_Phallo_18_ch_4_0_149.tif\n",
      "Reading image: ../../../../data/cells/raw/masks/20072019_ND9_ND11_DIV0-1_Daam1_aTub_Phallo_18_ch_4_0_149.tif\n",
      "The value to be activated in mask: [1 2 3] \n",
      "After normalization: \n",
      "Img size        : (1024, 1024, 4) float32 < 1.0\n",
      "Categories size : (1024, 1024, 3) float32 < 1.0\n",
      "5 - ../../../../data/cells/raw/zarr2/20072019_ND9_ND11_DIV0-1_Daam1_aTub_Phallo_15_ch_4.zarr\n",
      "Reading image: ../../../../data/cells/raw/input/20072019_ND9_ND11_DIV0-1_Daam1_aTub_Phallo_15_ch_4.tif\n",
      "Reading image: ../../../../data/cells/raw/masks/20072019_ND9_ND11_DIV0-1_Daam1_aTub_Phallo_15_ch_4_0_156.tif\n",
      "Reading image: ../../../../data/cells/raw/masks/20072019_ND9_ND11_DIV0-1_Daam1_aTub_Phallo_15_ch_4_0_156.tif\n",
      "The value to be activated in mask: [1 2 3] \n",
      "After normalization: \n",
      "Img size        : (1024, 1024, 4) float32 < 1.0\n",
      "Categories size : (1024, 1024, 3) float32 < 1.0\n",
      "6 - ../../../../data/cells/raw/zarr2/20072019_ND9_ND11_DIV0-1_Daam1_aTub_Phallo_4_ch_4.zarr\n",
      "Reading image: ../../../../data/cells/raw/input/20072019_ND9_ND11_DIV0-1_Daam1_aTub_Phallo_4_ch_4.tif\n",
      "Reading image: ../../../../data/cells/raw/masks/20072019_ND9_ND11_DIV0-1_Daam1_aTub_Phallo_4_ch_4_0_159.tif\n",
      "Reading image: ../../../../data/cells/raw/masks/20072019_ND9_ND11_DIV0-1_Daam1_aTub_Phallo_4_ch_4_0_159.tif\n",
      "The value to be activated in mask: [1 2 3] \n",
      "After normalization: \n",
      "Img size        : (1024, 1024, 4) float32 < 1.0\n",
      "Categories size : (1024, 1024, 3) float32 < 1.0\n"
     ]
    }
   ],
   "source": [
    "utils.create_zarr_per_pairV2(INPUT_FOLDER,INSTANCES_FOLDER,CSV_FOLDER,ZARR_FOLDER)"
   ]
  },
  {
   "cell_type": "markdown",
   "metadata": {},
   "source": [
    "### Test"
   ]
  },
  {
   "cell_type": "code",
   "execution_count": null,
   "metadata": {},
   "outputs": [],
   "source": [
    "import os\n",
    "import zarr\n",
    "TEST = '../../../../data/cells/raw/zarr2/'\n",
    "ZARR_PATH = os.path.join(TEST,os.listdir(TEST)[0])\n",
    "file = zarr.open(ZARR_PATH, mode='r')"
   ]
  },
  {
   "cell_type": "code",
   "execution_count": null,
   "metadata": {},
   "outputs": [],
   "source": [
    "import matplotlib.pyplot as plt\n",
    "plt.imshow(file[RAW][:,:,2])\n",
    "plt.show()"
   ]
  },
  {
   "cell_type": "code",
   "execution_count": null,
   "metadata": {},
   "outputs": [],
   "source": [
    "print(file[RAW].shape)\n",
    "print(file[RAW].dtype)"
   ]
  },
  {
   "cell_type": "code",
   "execution_count": null,
   "metadata": {},
   "outputs": [],
   "source": [
    "print(file[GT].shape)\n",
    "print(file[GT].dtype)"
   ]
  },
  {
   "cell_type": "code",
   "execution_count": null,
   "metadata": {},
   "outputs": [],
   "source": [
    "print(file[INSTANCES].shape)\n",
    "print(file[INSTANCES].dtype)"
   ]
  },
  {
   "cell_type": "code",
   "execution_count": null,
   "metadata": {},
   "outputs": [],
   "source": []
  },
  {
   "cell_type": "code",
   "execution_count": null,
   "metadata": {},
   "outputs": [],
   "source": []
  },
  {
   "cell_type": "code",
   "execution_count": null,
   "metadata": {},
   "outputs": [],
   "source": [
    "# INPUT_FOLDER,INSTANCES_FOLDER,CSV_FOLDER,ZARR_FOLDER\n",
    "pairs = generate_pairs(CSV_FOLDER,INSTANCES_FOLDER)"
   ]
  },
  {
   "cell_type": "code",
   "execution_count": null,
   "metadata": {},
   "outputs": [],
   "source": [
    "csv = list(pairs.keys())[2]\n",
    "inst = pairs[csv]"
   ]
  },
  {
   "cell_type": "code",
   "execution_count": null,
   "metadata": {},
   "outputs": [],
   "source": []
  },
  {
   "cell_type": "code",
   "execution_count": null,
   "metadata": {},
   "outputs": [],
   "source": [
    "plt.imshow(im_categ)"
   ]
  },
  {
   "cell_type": "code",
   "execution_count": null,
   "metadata": {},
   "outputs": [],
   "source": [
    "for csv,inst in pairs.items():\n",
    "    im_categ = generateCategoryImage(inst,csv)\n",
    "    vals = np.unique(im_categ)\n",
    "    print(vals)\n"
   ]
  },
  {
   "cell_type": "code",
   "execution_count": null,
   "metadata": {},
   "outputs": [],
   "source": [
    "normalized_mask = normalize_mask(im_categ,np.array([0,1,2,3]))"
   ]
  },
  {
   "cell_type": "code",
   "execution_count": null,
   "metadata": {},
   "outputs": [],
   "source": [
    "plt.imshow(normalized_mask[:,:,3])"
   ]
  },
  {
   "cell_type": "code",
   "execution_count": null,
   "metadata": {},
   "outputs": [],
   "source": [
    "normalized_mask.shape"
   ]
  },
  {
   "cell_type": "code",
   "execution_count": null,
   "metadata": {},
   "outputs": [],
   "source": []
  }
 ],
 "metadata": {
  "kernelspec": {
   "display_name": "Python 3",
   "language": "python",
   "name": "python3"
  },
  "language_info": {
   "codemirror_mode": {
    "name": "ipython",
    "version": 3
   },
   "file_extension": ".py",
   "mimetype": "text/x-python",
   "name": "python",
   "nbconvert_exporter": "python",
   "pygments_lexer": "ipython3",
   "version": "3.6.8"
  }
 },
 "nbformat": 4,
 "nbformat_minor": 2
}
