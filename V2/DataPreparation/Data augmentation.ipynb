{
 "cells": [
  {
   "cell_type": "code",
   "execution_count": 8,
   "metadata": {},
   "outputs": [],
   "source": [
    "import gunpowder as gp\n",
    "import zarr\n",
    "import matplotlib.pyplot as plt\n",
    "import os"
   ]
  },
  {
   "cell_type": "code",
   "execution_count": 9,
   "metadata": {},
   "outputs": [
    {
     "data": {
      "text/plain": [
       "['../../../../data/cells/raw/zarr/train/ND8_DIV0+4h_20x_noConfinment_5_ch_4.zarr',\n",
       " '../../../../data/cells/raw/zarr/train/20072019_ND9_ND11_DIV0-1_Daam1_aTub_Phallo_2_ch_4.zarr',\n",
       " '../../../../data/cells/raw/zarr/train/20072019_ND9_ND11_DIV0-1_Daam1_aTub_Phallo_1_ch_4.zarr',\n",
       " '../../../../data/cells/raw/zarr/train/20072019_ND9_ND11_DIV0-1_Daam1_aTub_Phallo_8_ch_4.zarr',\n",
       " '../../../../data/cells/raw/zarr/train/20072019_ND9_ND11_DIV0-1_Daam1_aTub_Phallo_15_ch_4.zarr',\n",
       " '../../../../data/cells/raw/zarr/train/20072019_ND9_ND11_DIV0-1_Daam1_aTub_Phallo_4_ch_4.zarr']"
      ]
     },
     "execution_count": 9,
     "metadata": {},
     "output_type": "execute_result"
    }
   ],
   "source": [
    "ZARR_FOLDER = '../../../../data/cells/raw/zarr/train/'\n",
    "raw = gp.ArrayKey('raw')\n",
    "gt = gp.ArrayKey('ground_truth')\n",
    "files = os.listdir(ZARR_FOLDER)\n",
    "files = [os.path.join(ZARR_FOLDER,f) for f in files ]\n",
    "files"
   ]
  },
  {
   "cell_type": "markdown",
   "metadata": {},
   "source": [
    "#### TODO\n",
    "- add data augmentation\n",
    "- add elastic"
   ]
  },
  {
   "cell_type": "code",
   "execution_count": 5,
   "metadata": {},
   "outputs": [],
   "source": [
    "def generate_fast_training_batch(files, batch_size=12,voxel_shape = [1,1,1],input_shape= [256, 256,3 ],output_shape = [ 256, 256,3] ):\n",
    "    pipeline =( tuple (\n",
    "        gp.ZarrSource(\n",
    "            files[t],  # the zarr container\n",
    "            {raw: 'raw', gt : 'ground_truth'},  # which dataset to associate to the array key\n",
    "            {raw: gp.ArraySpec(interpolatable=True),\n",
    "             gt: gp.ArraySpec(interpolatable=True)}  # meta-information\n",
    "        )\n",
    "        + gp.RandomLocation()\n",
    "        for t in range(len(files))\n",
    "    )\n",
    "               + gp.RandomProvider()\n",
    "               +gp.Stack(batch_size)\n",
    "              )\n",
    "    voxel_size = gp.Coordinate(voxel_shape)\n",
    "    input_size = gp.Coordinate(input_shape)*voxel_size\n",
    "    output_size = gp.Coordinate(output_shape)*voxel_size\n",
    "    \n",
    "    request = gp.BatchRequest()\n",
    "    request.add(raw,input_size)\n",
    "    request.add(gt,output_size)\n",
    "    \n",
    "    while 1:\n",
    "        with gp.build(pipeline):\n",
    "            batch = pipeline.request_batch(request)\n",
    "            yield batch[raw].data, batch[gt].data"
   ]
  },
  {
   "cell_type": "code",
   "execution_count": 6,
   "metadata": {},
   "outputs": [
    {
     "name": "stderr",
     "output_type": "stream",
     "text": [
      "WARNING: File ../../../../data/cells/raw/zarr/train/ND8_DIV0+4h_20x_noConfinment_5_ch_4.zarr does not contain resolution information for raw (dataset raw), voxel size has been set to None. This might not be what you want.\n",
      "WARNING: File ../../../../data/cells/raw/zarr/train/ND8_DIV0+4h_20x_noConfinment_5_ch_4.zarr does not contain resolution information for ground_truth (dataset ground_truth), voxel size has been set to None. This might not be what you want.\n",
      "WARNING: File ../../../../data/cells/raw/zarr/train/20072019_ND9_ND11_DIV0-1_Daam1_aTub_Phallo_2_ch_4.zarr does not contain resolution information for raw (dataset raw), voxel size has been set to None. This might not be what you want.\n",
      "WARNING: File ../../../../data/cells/raw/zarr/train/20072019_ND9_ND11_DIV0-1_Daam1_aTub_Phallo_2_ch_4.zarr does not contain resolution information for ground_truth (dataset ground_truth), voxel size has been set to None. This might not be what you want.\n",
      "WARNING: File ../../../../data/cells/raw/zarr/train/20072019_ND9_ND11_DIV0-1_Daam1_aTub_Phallo_1_ch_4.zarr does not contain resolution information for raw (dataset raw), voxel size has been set to None. This might not be what you want.\n",
      "WARNING: File ../../../../data/cells/raw/zarr/train/20072019_ND9_ND11_DIV0-1_Daam1_aTub_Phallo_1_ch_4.zarr does not contain resolution information for ground_truth (dataset ground_truth), voxel size has been set to None. This might not be what you want.\n",
      "WARNING: File ../../../../data/cells/raw/zarr/train/20072019_ND9_ND11_DIV0-1_Daam1_aTub_Phallo_8_ch_4.zarr does not contain resolution information for raw (dataset raw), voxel size has been set to None. This might not be what you want.\n",
      "WARNING: File ../../../../data/cells/raw/zarr/train/20072019_ND9_ND11_DIV0-1_Daam1_aTub_Phallo_8_ch_4.zarr does not contain resolution information for ground_truth (dataset ground_truth), voxel size has been set to None. This might not be what you want.\n",
      "WARNING: File ../../../../data/cells/raw/zarr/train/20072019_ND9_ND11_DIV0-1_Daam1_aTub_Phallo_15_ch_4.zarr does not contain resolution information for raw (dataset raw), voxel size has been set to None. This might not be what you want.\n",
      "WARNING: File ../../../../data/cells/raw/zarr/train/20072019_ND9_ND11_DIV0-1_Daam1_aTub_Phallo_15_ch_4.zarr does not contain resolution information for ground_truth (dataset ground_truth), voxel size has been set to None. This might not be what you want.\n",
      "WARNING: File ../../../../data/cells/raw/zarr/train/20072019_ND9_ND11_DIV0-1_Daam1_aTub_Phallo_4_ch_4.zarr does not contain resolution information for raw (dataset raw), voxel size has been set to None. This might not be what you want.\n",
      "WARNING: File ../../../../data/cells/raw/zarr/train/20072019_ND9_ND11_DIV0-1_Daam1_aTub_Phallo_4_ch_4.zarr does not contain resolution information for ground_truth (dataset ground_truth), voxel size has been set to None. This might not be what you want.\n"
     ]
    },
    {
     "data": {
      "text/plain": [
       "((12, 256, 256, 3), (12, 256, 256, 3))"
      ]
     },
     "execution_count": 6,
     "metadata": {},
     "output_type": "execute_result"
    }
   ],
   "source": [
    "gen_train_fast = generate_fast_training_batch(files)\n",
    "bimg,blbl = next(gen_train_fast)\n",
    "bimg.shape, blbl.shape"
   ]
  },
  {
   "cell_type": "code",
   "execution_count": 7,
   "metadata": {},
   "outputs": [
    {
     "data": {
      "text/plain": [
       "<matplotlib.image.AxesImage at 0x7f93dc7a26a0>"
      ]
     },
     "execution_count": 7,
     "metadata": {},
     "output_type": "execute_result"
    },
    {
     "data": {
      "image/png": "[encoded data removed]",
      "text/plain": [
       "<Figure size 432x288 with 1 Axes>"
      ]
     },
     "metadata": {
      "needs_background": "light"
     },
     "output_type": "display_data"
    }
   ],
   "source": [
    "plt.imshow(blbl[0][:,:,2])"
   ]
  },
  {
   "cell_type": "code",
   "execution_count": null,
   "metadata": {},
   "outputs": [],
   "source": []
  }
 ],
 "metadata": {
  "kernelspec": {
   "display_name": "Python 3",
   "language": "python",
   "name": "python3"
  },
  "language_info": {
   "codemirror_mode": {
    "name": "ipython",
    "version": 3
   },
   "file_extension": ".py",
   "mimetype": "text/x-python",
   "name": "python",
   "nbconvert_exporter": "python",
   "pygments_lexer": "ipython3",
   "version": "3.6.8"
  }
 },
 "nbformat": 4,
 "nbformat_minor": 2
}
