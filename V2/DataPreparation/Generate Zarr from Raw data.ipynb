{
 "cells": [
  {
   "cell_type": "code",
   "execution_count": 145,
   "metadata": {},
   "outputs": [],
   "source": [
    "import os\n",
    "from skimage import io\n",
    "import matplotlib.pyplot as plt\n",
    "import zarr\n",
    "import numpy as np\n",
    "\n",
    "# import cv2"
   ]
  },
  {
   "cell_type": "markdown",
   "metadata": {},
   "source": [
    "### All Paths"
   ]
  },
  {
   "cell_type": "code",
   "execution_count": 141,
   "metadata": {},
   "outputs": [
    {
     "data": {
      "text/plain": [
       "['ND8_DIV0+4h_20x_noConfinment_6_ch_4_instances.tif',\n",
       " 'ND8_DIV0+4h_20x_noConfinment_6_ch_4.tif',\n",
       " '20072019_ND9_ND11_DIV0-1_Daam1_aTub_Phallo_1_ch_4_instances.tif',\n",
       " '20072019_ND9_ND11_DIV0-1_Daam1_aTub_Phallo_1_ch_4.tif']"
      ]
     },
     "execution_count": 141,
     "metadata": {},
     "output_type": "execute_result"
    }
   ],
   "source": [
    "# RAW_PATH = '../../../../data/cells/raw/train/'\n",
    "INSTANCES_PATH = '../../../../data/cells/raw/masks'\n",
    "MASK_KEY = '_instances'\n",
    "EXTENSION = '.tif'\n",
    "# ZARR_PATH = '../../../../data/cells/raw/all.zarr'\n",
    "ZARR_FOLDER = '../../../../data/cells/raw/zarr/'\n",
    "RAW = 'raw'\n",
    "MASK = 'mask'\n",
    "GT = 'ground_truth'\n",
    "PREDICTION = 'prediction'\n",
    "os.listdir(RAW_PATH)"
   ]
  },
  {
   "cell_type": "code",
   "execution_count": 142,
   "metadata": {},
   "outputs": [],
   "source": [
    "def readImg(path):\n",
    "    print('Reading image: {}'.format(path))\n",
    "    im = io.imread(path)\n",
    "    return im\n",
    "\n",
    "def generate_pairs(folder_path):\n",
    "    print(folder_path)\n",
    "    files = os.listdir(folder_path)\n",
    "    pairs = {}\n",
    "    for f in files:\n",
    "        if f.endswith(EXTENSION):\n",
    "            if MASK_KEY in f:\n",
    "                inp_img = f.replace(MASK_KEY,'')\n",
    "                if inp_img in files:\n",
    "                    pairs[os.path.join(folder_path,inp_img)]=os.path.join(folder_path,f)\n",
    "#                     pairs.append({os.path.join(folder_path,inp_img):os.path.join(folder_path,f)})\n",
    "                else:\n",
    "                    print('ERROR! {} not found'.format(inp_img))\n",
    "    print(\"Found {} pairs.\".format(len(pairs)))\n",
    "    return pairs\n",
    "\n",
    "def getFiles(instances_path,base_name):\n",
    "    files = []\n",
    "    for f in os.listdir(instances_path):\n",
    "        if base_name in f:\n",
    "            files.append(os.path.join(instances_path,f))\n",
    "    return files\n",
    "\n",
    "def getListImages(files,shape):\n",
    "    result = np.zeros(shape, dtype=np.int32) \n",
    "    for i,f in enumerate(files):\n",
    "        tmp = readImg(f)\n",
    "        result[:,:,i] = tmp\n",
    "    return result\n",
    "\n",
    "def normalize_mask(mask,list_vals):\n",
    "    size = list_vals.size\n",
    "    shape = (mask.shape+tuple([size]))\n",
    "    result = np.zeros(shape, dtype=np.float32)\n",
    "    for i in range(size):\n",
    "        tmp = np.zeros_like(mask)\n",
    "        tmp [mask == list_vals[i]] = 1.0\n",
    "        result[:,:,i] = tmp\n",
    "    return result\n",
    "\n",
    "def get_base_name(path):\n",
    "    base = os.path.basename(path)\n",
    "    return os.path.splitext(base)[0]\n",
    "\n",
    "def normalize_image(img):\n",
    "    img = img.astype(np.float32)\n",
    "    img = img / 255.\n",
    "    return img"
   ]
  },
  {
   "cell_type": "code",
   "execution_count": 144,
   "metadata": {},
   "outputs": [
    {
     "name": "stdout",
     "output_type": "stream",
     "text": [
      "../../../../data/cells/raw/train/\n",
      "Found 2 pairs.\n",
      "0 - ../../../../data/cells/raw/zarr/ND8_DIV0+4h_20x_noConfinment_6_ch_4.zarr\n",
      "Reading image: ../../../../data/cells/raw/train/ND8_DIV0+4h_20x_noConfinment_6_ch_4.tif\n",
      "Reading image: ../../../../data/cells/raw/train/ND8_DIV0+4h_20x_noConfinment_6_ch_4_instances.tif\n",
      "The value to be activated in mask: [0. 4. 5. 6.] \n",
      "Img size: (1024, 1024, 4) uint8 < 255 | Mask size: (1024, 1024, 4) float32 <13.0\n",
      "Reading image: ../../../../data/cells/raw/masks/ND8_DIV0+4h_20x_noConfinment_6_ch_4_1_409.tif\n",
      "Reading image: ../../../../data/cells/raw/masks/ND8_DIV0+4h_20x_noConfinment_6_ch_4_2_369.tif\n",
      "Reading image: ../../../../data/cells/raw/masks/ND8_DIV0+4h_20x_noConfinment_6_ch_4_0_383.tif\n",
      "After normalization: Img size: (1024, 1024, 4) float32 <1.0 | Mask size: (1024, 1024, 4) float32 <1.0\n",
      "1 - ../../../../data/cells/raw/zarr/20072019_ND9_ND11_DIV0-1_Daam1_aTub_Phallo_1_ch_4.zarr\n",
      "Reading image: ../../../../data/cells/raw/train/20072019_ND9_ND11_DIV0-1_Daam1_aTub_Phallo_1_ch_4.tif\n",
      "Reading image: ../../../../data/cells/raw/train/20072019_ND9_ND11_DIV0-1_Daam1_aTub_Phallo_1_ch_4_instances.tif\n",
      "The value to be activated in mask: [0. 4. 5. 6.] \n",
      "Img size: (1024, 1024, 4) uint8 < 255 | Mask size: (1024, 1024, 4) float32 <7.0\n",
      "Reading image: ../../../../data/cells/raw/masks/20072019_ND9_ND11_DIV0-1_Daam1_aTub_Phallo_1_ch_4_1_169.tif\n",
      "Reading image: ../../../../data/cells/raw/masks/20072019_ND9_ND11_DIV0-1_Daam1_aTub_Phallo_1_ch_4_2_165.tif\n",
      "Reading image: ../../../../data/cells/raw/masks/20072019_ND9_ND11_DIV0-1_Daam1_aTub_Phallo_1_ch_4_0_166.tif\n",
      "After normalization: Img size: (1024, 1024, 4) float32 <1.0 | Mask size: (1024, 1024, 4) float32 <1.0\n"
     ]
    }
   ],
   "source": [
    "def create_one_big_zarr(raw_path,zar_path):\n",
    "    pairs = generate_pairs(raw_path)\n",
    "    size = len(pairs)\n",
    "    root = zarr.open(zar_path, mode='w')\n",
    "    initial = True\n",
    "    for i,(image_path, mask_path) in enumerate(pairs.items()):\n",
    "        print(i)\n",
    "        im_image = readImg(image_path)\n",
    "        im_mask = readImg(mask_path)\n",
    "        if(initial):\n",
    "            # removed the last value because it is the error category\n",
    "            mask_values = np.unique(im_mask)[:4]\n",
    "            shape_image = (tuple([size])+im_image.shape)\n",
    "            shape_mask = (tuple([size])+im_mask.shape+tuple([mask_values.size]))\n",
    "            print('The value to be activated in mask: {} '.format(mask_values))\n",
    "            print('Img size: {} {} | Mask size: {} {}'.format(shape_image,type(im_image),shape_mask,type(im_mask)))\n",
    "            root.zeros(RAW, shape=shape_image, chunks=(1,256, 256,1), dtype='f')\n",
    "            root.zeros(GT, shape=shape_mask, chunks=(1,256, 256,1), dtype='f')\n",
    "            initial = False\n",
    "        \n",
    "        normalized_mask = normalize_mask(im_mask,mask_values)\n",
    "        print('The normalized mask: {} '.format(normalized_mask.shape))\n",
    "        root[RAW][i] = im_image\n",
    "        root[GT][i] = normalized_mask\n",
    "    \n",
    "    \n",
    "def create_zarr_per_pair(raw_path,instances_path,zarr_path):\n",
    "    pairs = generate_pairs(raw_path)\n",
    "    size = len(pairs)\n",
    "    for i,(image_path, mask_path) in enumerate(pairs.items()):\n",
    "        base_name = get_base_name(image_path)\n",
    "        list_masks = getFiles(instances_path,base_name)\n",
    "        zarr_file = os.path.join(zarr_path,base_name+'.zarr')   \n",
    "        print('{} - {}'.format(i,zarr_file))\n",
    "        root = zarr.open(zarr_file, mode='w')\n",
    "        im_image = readImg(image_path)\n",
    "        im_mask = readImg(mask_path)\n",
    "        \n",
    "        # removed the last value because it is the error category\n",
    "        mask_values = np.unique(im_mask)[:4]\n",
    "        shape_image = im_image.shape\n",
    "        shape_mask = (im_mask.shape+tuple([mask_values.size]))\n",
    "        shape_instances =  (im_mask.shape+tuple([3]))\n",
    "        print('The value to be activated in mask: {} '.format(mask_values))\n",
    "        print('Img size: {} {} < {} | Mask size: {} {} <{}'.format(shape_image,im_image.dtype,im_image.max()\n",
    "                                                                   ,shape_mask,im_mask.dtype,im_mask.max()))\n",
    "        root.zeros(RAW, shape=shape_image, chunks=(256, 256,1), dtype='f8')\n",
    "        root.zeros(GT, shape=shape_mask, chunks=(256, 256,1), dtype='f8')\n",
    "#         root.zeros(PREDICTION, shape=shape_mask, chunks=(256, 256,1), dtype='f8')\n",
    "        root.zeros(MASK, shape=shape_instances, chunks=(256, 256,1), dtype='i8')\n",
    "        nomalized_image = normalize_image(im_image)\n",
    "        normalized_mask = normalize_mask(im_mask,mask_values)\n",
    "        instances_images = getListImages(list_masks,shape_instances)\n",
    "        print('After normalization: Img size: {} {} <{} | Mask size: {} {} <{}'.format(nomalized_image.shape,nomalized_image.dtype,nomalized_image.max(),\n",
    "                                                                                       normalized_mask.shape,normalized_mask.dtype,normalized_mask.max()))\n",
    "        root[RAW] = nomalized_image\n",
    "        root[GT] = normalized_mask\n",
    "        root[MASK] = instances_images\n",
    "        \n",
    "create_zarr_per_pair(RAW_PATH,INSTANCES_PATH,ZARR_FOLDER)\n",
    "# create_zarr(RAW_PATH,ZARR_PATH)"
   ]
  },
  {
   "cell_type": "code",
   "execution_count": 126,
   "metadata": {},
   "outputs": [],
   "source": [
    "# plt.imshow(bg)"
   ]
  },
  {
   "cell_type": "code",
   "execution_count": 114,
   "metadata": {},
   "outputs": [],
   "source": [
    "ZARR_PATH = '../../../../data/cells/raw/zarr/ND8_DIV0+4h_20x_noConfinment_6_ch_4.zarr'\n",
    "file = zarr.open(ZARR_PATH, mode='r')"
   ]
  },
  {
   "cell_type": "code",
   "execution_count": 115,
   "metadata": {},
   "outputs": [
    {
     "data": {
      "text/plain": [
       "<matplotlib.image.AxesImage at 0x7f38284e6da0>"
      ]
     },
     "execution_count": 115,
     "metadata": {},
     "output_type": "execute_result"
    },
    {
     "data": {
      "image/png": "[encoded data removed]",
      "text/plain": [
       "<Figure size 432x288 with 1 Axes>"
      ]
     },
     "metadata": {
      "needs_background": "light"
     },
     "output_type": "display_data"
    }
   ],
   "source": [
    "plt.imshow(file[MASK][:,:,2])"
   ]
  },
  {
   "cell_type": "code",
   "execution_count": 116,
   "metadata": {},
   "outputs": [
    {
     "data": {
      "text/plain": [
       "(1024, 1024, 3)"
      ]
     },
     "execution_count": 116,
     "metadata": {},
     "output_type": "execute_result"
    }
   ],
   "source": [
    "file[MASK].shape"
   ]
  },
  {
   "cell_type": "code",
   "execution_count": 117,
   "metadata": {},
   "outputs": [
    {
     "data": {
      "text/plain": [
       "dtype('int32')"
      ]
     },
     "execution_count": 117,
     "metadata": {},
     "output_type": "execute_result"
    }
   ],
   "source": [
    "file[MASK].dtype"
   ]
  },
  {
   "cell_type": "code",
   "execution_count": null,
   "metadata": {},
   "outputs": [],
   "source": []
  }
 ],
 "metadata": {
  "kernelspec": {
   "display_name": "Python 3",
   "language": "python",
   "name": "python3"
  },
  "language_info": {
   "codemirror_mode": {
    "name": "ipython",
    "version": 3
   },
   "file_extension": ".py",
   "mimetype": "text/x-python",
   "name": "python",
   "nbconvert_exporter": "python",
   "pygments_lexer": "ipython3",
   "version": "3.6.8"
  }
 },
 "nbformat": 4,
 "nbformat_minor": 2
}
