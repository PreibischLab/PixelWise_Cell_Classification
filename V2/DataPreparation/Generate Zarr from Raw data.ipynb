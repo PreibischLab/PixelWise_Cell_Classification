{
 "cells": [
  {
   "cell_type": "code",
   "execution_count": 7,
   "metadata": {},
   "outputs": [],
   "source": [
    "import os\n",
    "from skimage import io\n",
    "import matplotlib.pyplot as plt\n",
    "import zarr\n",
    "import numpy as np\n",
    "# import cv2"
   ]
  },
  {
   "cell_type": "markdown",
   "metadata": {},
   "source": [
    "### All Paths"
   ]
  },
  {
   "cell_type": "code",
   "execution_count": 27,
   "metadata": {},
   "outputs": [
    {
     "data": {
      "text/plain": [
       "['ND8_DIV0+4h_20x_noConfinment_6_ch_4_instances.tif',\n",
       " 'ND8_DIV0+4h_20x_noConfinment_6_ch_4.tif',\n",
       " '20072019_ND9_ND11_DIV0-1_Daam1_aTub_Phallo_1_ch_4_instances.tif',\n",
       " '20072019_ND9_ND11_DIV0-1_Daam1_aTub_Phallo_1_ch_4.tif']"
      ]
     },
     "execution_count": 27,
     "metadata": {},
     "output_type": "execute_result"
    }
   ],
   "source": [
    "RAW_PATH = '../../../../data/cells/raw/train/'\n",
    "MASK_KEY = '_instances'\n",
    "EXTENSION = '.tif'\n",
    "ZARR_PATH = '../../../../data/cells/raw/all.zarr'\n",
    "ZARR_FOLDER = '../../../../data/cells/raw/zarr/'\n",
    "RAW = 'raw'\n",
    "GT = 'ground_truth'\n",
    "os.listdir(RAW_PATH)"
   ]
  },
  {
   "cell_type": "code",
   "execution_count": 29,
   "metadata": {},
   "outputs": [],
   "source": [
    "def readImg(path):\n",
    "    print('Reading image: {}'.format(path))\n",
    "    im = io.imread(path)\n",
    "    return im\n",
    "\n",
    "def generate_pairs(folder_path):\n",
    "    print(folder_path)\n",
    "    files = os.listdir(folder_path)\n",
    "    pairs = {}\n",
    "    for f in files:\n",
    "        if f.endswith(EXTENSION):\n",
    "            if MASK_KEY in f:\n",
    "                inp_img = f.replace(MASK_KEY,'')\n",
    "                if inp_img in files:\n",
    "                    pairs[os.path.join(folder_path,inp_img)]=os.path.join(folder_path,f)\n",
    "#                     pairs.append({os.path.join(folder_path,inp_img):os.path.join(folder_path,f)})\n",
    "                else:\n",
    "                    print('ERROR! {} not found'.format(inp_img))\n",
    "    print(\"Found {} pairs.\".format(len(pairs)))\n",
    "    return pairs\n",
    "\n",
    "def normalize_mask(mask,list_vals):\n",
    "    size = list_vals.size\n",
    "    shape = (mask.shape+tuple([size]))\n",
    "    result = np.zeros(shape, dtype=float)\n",
    "    for i in range(size):\n",
    "        tmp = np.zeros_like(mask)\n",
    "        tmp [mask == list_vals[i]] = 1.0\n",
    "        result[:,:,i] = tmp\n",
    "    return result\n",
    "\n",
    "def get_base_name(path):\n",
    "    base = os.path.basename(path)\n",
    "    return os.path.splitext(base)[0]"
   ]
  },
  {
   "cell_type": "code",
   "execution_count": 30,
   "metadata": {},
   "outputs": [
    {
     "name": "stdout",
     "output_type": "stream",
     "text": [
      "../../../../data/cells/raw/train/\n",
      "Found 2 pairs.\n",
      "0 - ../../../../data/cells/raw/zarr/ND8_DIV0+4h_20x_noConfinment_6_ch_4.zarr\n",
      "Reading image: ../../../../data/cells/raw/train/ND8_DIV0+4h_20x_noConfinment_6_ch_4.tif\n",
      "Reading image: ../../../../data/cells/raw/train/ND8_DIV0+4h_20x_noConfinment_6_ch_4_instances.tif\n",
      "The value to be activated in mask: [0. 4. 5. 6.] \n",
      "Img size: (1024, 1024, 4) uint8 | Mask size: (1024, 1024, 4) float32\n",
      "The normalized mask: (1024, 1024, 4) \n",
      "1 - ../../../../data/cells/raw/zarr/20072019_ND9_ND11_DIV0-1_Daam1_aTub_Phallo_1_ch_4.zarr\n",
      "Reading image: ../../../../data/cells/raw/train/20072019_ND9_ND11_DIV0-1_Daam1_aTub_Phallo_1_ch_4.tif\n",
      "Reading image: ../../../../data/cells/raw/train/20072019_ND9_ND11_DIV0-1_Daam1_aTub_Phallo_1_ch_4_instances.tif\n",
      "The value to be activated in mask: [0. 4. 5. 6.] \n",
      "Img size: (1024, 1024, 4) uint8 | Mask size: (1024, 1024, 4) float32\n",
      "The normalized mask: (1024, 1024, 4) \n"
     ]
    }
   ],
   "source": [
    "def create_one_big_zarr(raw_path,zar_path):\n",
    "    pairs = generate_pairs(raw_path)\n",
    "    size = len(pairs)\n",
    "    root = zarr.open(zar_path, mode='w')\n",
    "    initial = True\n",
    "    for i,(image_path, mask_path) in enumerate(pairs.items()):\n",
    "        print(i)\n",
    "        im_image = readImg(image_path)\n",
    "        im_mask = readImg(mask_path)\n",
    "        if(initial):\n",
    "            # removed the last value because it is the error category\n",
    "            mask_values = np.unique(im_mask)[:4]\n",
    "            shape_image = (tuple([size])+im_image.shape)\n",
    "            shape_mask = (tuple([size])+im_mask.shape+tuple([mask_values.size]))\n",
    "            print('The value to be activated in mask: {} '.format(mask_values))\n",
    "            print('Img size: {} {} | Mask size: {} {}'.format(shape_image,type(im_image),shape_mask,type(im_mask)))\n",
    "            root.zeros(RAW, shape=shape_image, chunks=(1,256, 256,1), dtype='f')\n",
    "            root.zeros(GT, shape=shape_mask, chunks=(1,256, 256,1), dtype='f')\n",
    "            initial = False\n",
    "        \n",
    "        normalized_mask = normalize_mask(im_mask,mask_values)\n",
    "        print('The normalized mask: {} '.format(normalized_mask.shape))\n",
    "        root[RAW][i] = im_image\n",
    "        root[GT][i] = normalized_mask\n",
    "    \n",
    "    \n",
    "def create_zarr_per_pair(raw_path,zarr_path):\n",
    "    pairs = generate_pairs(raw_path)\n",
    "    size = len(pairs)\n",
    "    for i,(image_path, mask_path) in enumerate(pairs.items()):\n",
    "        zarr_file = os.path.join(zarr_path,get_base_name(image_path)+'.zarr')   \n",
    "        print('{} - {}'.format(i,zarr_file))\n",
    "        root = zarr.open(zarr_file, mode='w')\n",
    "        im_image = readImg(image_path)\n",
    "        im_mask = readImg(mask_path)\n",
    "        \n",
    "        # removed the last value because it is the error category\n",
    "        mask_values = np.unique(im_mask)[:4]\n",
    "        shape_image = im_image.shape\n",
    "        shape_mask = (im_mask.shape+tuple([mask_values.size]))\n",
    "        print('The value to be activated in mask: {} '.format(mask_values))\n",
    "        print('Img size: {} {} | Mask size: {} {}'.format(shape_image,im_image.dtype,shape_mask,im_mask.dtype))\n",
    "        root.zeros(RAW, shape=shape_image, chunks=(256, 256,1), dtype='f')\n",
    "        root.zeros(GT, shape=shape_mask, chunks=(256, 256,1), dtype='i')\n",
    "        normalized_mask = normalize_mask(im_mask,mask_values)\n",
    "        print('The normalized mask: {} '.format(normalized_mask.shape))\n",
    "        root[RAW] = im_image\n",
    "        root[GT] = normalized_mask\n",
    "        \n",
    "create_zarr_per_pair(RAW_PATH,ZARR_FOLDER)\n",
    "# create_zarr(RAW_PATH,ZARR_PATH)"
   ]
  },
  {
   "cell_type": "code",
   "execution_count": 14,
   "metadata": {},
   "outputs": [],
   "source": [
    "# plt.imshow(bg)"
   ]
  },
  {
   "cell_type": "code",
   "execution_count": 15,
   "metadata": {},
   "outputs": [],
   "source": [
    "file = zarr.open(ZARR_PATH, mode='r')"
   ]
  },
  {
   "cell_type": "code",
   "execution_count": 20,
   "metadata": {},
   "outputs": [
    {
     "data": {
      "text/plain": [
       "<matplotlib.image.AxesImage at 0x7f382dd23208>"
      ]
     },
     "execution_count": 20,
     "metadata": {},
     "output_type": "execute_result"
    },
    {
     "data": {
      "image/png": "[encoded data removed]",
      "text/plain": [
       "<Figure size 432x288 with 1 Axes>"
      ]
     },
     "metadata": {
      "needs_background": "light"
     },
     "output_type": "display_data"
    }
   ],
   "source": [
    "plt.imshow(file[GT][0,:,:,3])"
   ]
  },
  {
   "cell_type": "code",
   "execution_count": 17,
   "metadata": {},
   "outputs": [
    {
     "data": {
      "text/plain": [
       "(2, 1024, 1024, 4)"
      ]
     },
     "execution_count": 17,
     "metadata": {},
     "output_type": "execute_result"
    }
   ],
   "source": [
    "file[GT].shape"
   ]
  },
  {
   "cell_type": "code",
   "execution_count": null,
   "metadata": {},
   "outputs": [],
   "source": []
  },
  {
   "cell_type": "code",
   "execution_count": null,
   "metadata": {},
   "outputs": [],
   "source": []
  }
 ],
 "metadata": {
  "kernelspec": {
   "display_name": "Python 3",
   "language": "python",
   "name": "python3"
  },
  "language_info": {
   "codemirror_mode": {
    "name": "ipython",
    "version": 3
   },
   "file_extension": ".py",
   "mimetype": "text/x-python",
   "name": "python",
   "nbconvert_exporter": "python",
   "pygments_lexer": "ipython3",
   "version": "3.6.8"
  }
 },
 "nbformat": 4,
 "nbformat_minor": 2
}
