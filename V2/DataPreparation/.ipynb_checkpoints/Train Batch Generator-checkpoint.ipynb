{
 "cells": [
  {
   "cell_type": "code",
   "execution_count": 112,
   "metadata": {},
   "outputs": [],
   "source": [
    "import gunpowder as gp\n",
    "import zarr\n",
    "import matplotlib.pyplot as plt\n",
    "import os"
   ]
  },
  {
   "cell_type": "code",
   "execution_count": 134,
   "metadata": {},
   "outputs": [
    {
     "data": {
      "text/plain": [
       "['../../../../data/cells/raw/zarr/20072019_ND9_ND11_DIV0-1_Daam1_aTub_Phallo_1_ch_4.zarr',\n",
       " '../../../../data/cells/raw/zarr/ND8_DIV0+4h_20x_noConfinment_6_ch_4.zarr']"
      ]
     },
     "execution_count": 134,
     "metadata": {},
     "output_type": "execute_result"
    }
   ],
   "source": [
    "ZARR_FOLDER = '../../../../data/cells/raw/zarr/'\n",
    "raw = gp.ArrayKey('raw')\n",
    "gt = gp.ArrayKey('ground_truth')\n",
    "files = os.listdir(ZARR_FOLDER)\n",
    "files = [os.path.join(ZARR_FOLDER,f) for f in files ]\n",
    "files"
   ]
  },
  {
   "cell_type": "code",
   "execution_count": null,
   "metadata": {},
   "outputs": [],
   "source": [
    "# output_folder = '../../../../data/cells/models/'\n",
    "# net_name = 'train_net'\n",
    "# optimizer = 'Adam'\n",
    "# loss = 'mse'"
   ]
  },
  {
   "cell_type": "code",
   "execution_count": 173,
   "metadata": {},
   "outputs": [],
   "source": [
    "\n",
    "\n",
    "# stack = gp.Stack(5)\n",
    "# simple_augment = gp.SimpleAugment()"
   ]
  },
  {
   "cell_type": "code",
   "execution_count": 174,
   "metadata": {},
   "outputs": [],
   "source": [
    "# pipeline = source \n",
    "# + random_location+ stack "
   ]
  },
  {
   "cell_type": "code",
   "execution_count": 187,
   "metadata": {},
   "outputs": [],
   "source": [
    "voxel_size = gp.Coordinate([1,1,1])\n",
    "input_shape = gp.Coordinate([ 256, 256,4 ])*voxel_size\n",
    "output_shape = gp.Coordinate([ 256, 256,4])*voxel_size"
   ]
  },
  {
   "cell_type": "code",
   "execution_count": 188,
   "metadata": {},
   "outputs": [],
   "source": [
    "request = gp.BatchRequest()\n",
    "request.add(raw,input_shape)\n",
    "request.add(gt,output_shape)\n",
    "# request[raw] = gp.Roi((0, 0,0), (240, 240,4))\n",
    "# request[gt] = gp.Roi((0, 0,0), (240,240,4))"
   ]
  },
  {
   "cell_type": "code",
   "execution_count": 197,
   "metadata": {},
   "outputs": [],
   "source": [
    "\n",
    "def generate_fast_training_batch():\n",
    "    pipeline =( tuple (\n",
    "        gp.ZarrSource(\n",
    "            files[t],  # the zarr container\n",
    "            {raw: 'raw', gt : 'ground_truth'},  # which dataset to associate to the array key\n",
    "            {raw: gp.ArraySpec(interpolatable=True),\n",
    "             gt: gp.ArraySpec(interpolatable=True)}  # meta-information\n",
    "        )\n",
    "        + gp.RandomLocation()\n",
    "        for t in range(len(files))\n",
    "    )\n",
    "               + gp.RandomProvider()\n",
    "              )\n",
    "    while 1:\n",
    "        with gp.build(pipeline):\n",
    "            batch = pipeline.request_batch(request)\n",
    "            yield batch[raw].data, batch[gt].data\n",
    "               "
   ]
  },
  {
   "cell_type": "code",
   "execution_count": 198,
   "metadata": {},
   "outputs": [
    {
     "name": "stderr",
     "output_type": "stream",
     "text": [
      "WARNING: File ../../../../data/cells/raw/zarr/20072019_ND9_ND11_DIV0-1_Daam1_aTub_Phallo_1_ch_4.zarr does not contain resolution information for raw (dataset raw), voxel size has been set to None. This might not be what you want.\n",
      "WARNING: File ../../../../data/cells/raw/zarr/20072019_ND9_ND11_DIV0-1_Daam1_aTub_Phallo_1_ch_4.zarr does not contain resolution information for ground_truth (dataset ground_truth), voxel size has been set to None. This might not be what you want.\n",
      "WARNING: File ../../../../data/cells/raw/zarr/ND8_DIV0+4h_20x_noConfinment_6_ch_4.zarr does not contain resolution information for raw (dataset raw), voxel size has been set to None. This might not be what you want.\n",
      "WARNING: File ../../../../data/cells/raw/zarr/ND8_DIV0+4h_20x_noConfinment_6_ch_4.zarr does not contain resolution information for ground_truth (dataset ground_truth), voxel size has been set to None. This might not be what you want.\n"
     ]
    },
    {
     "data": {
      "text/plain": [
       "((256, 256, 4), (256, 256, 4))"
      ]
     },
     "execution_count": 198,
     "metadata": {},
     "output_type": "execute_result"
    }
   ],
   "source": [
    "gen_train_fast = generate_fast_training_batch()\n",
    "bimg,blbl = next(gen_train_fast)\n",
    "bimg.shape, blbl.shape"
   ]
  },
  {
   "cell_type": "code",
   "execution_count": 191,
   "metadata": {},
   "outputs": [
    {
     "data": {
      "text/plain": [
       "<matplotlib.image.AxesImage at 0x7f92c712b0f0>"
      ]
     },
     "execution_count": 191,
     "metadata": {},
     "output_type": "execute_result"
    },
    {
     "data": {
      "image/png": "[encoded data removed]",
      "text/plain": [
       "<Figure size 432x288 with 1 Axes>"
      ]
     },
     "metadata": {
      "needs_background": "light"
     },
     "output_type": "display_data"
    }
   ],
   "source": [
    "plt.imshow(bimg)"
   ]
  },
  {
   "cell_type": "code",
   "execution_count": null,
   "metadata": {},
   "outputs": [],
   "source": [
    "pipeline = (\n",
    "        tuple(\n",
    "            # read batches from the HDF5 file\n",
    "            sourceNode(\n",
    "                fls[t] + \".\" + kwargs['input_format'],\n",
    "                datasets={\n",
    "                    raw: 'volumes/raw',\n",
    "                    gt_threeclass: 'volumes/gt_threeclass',\n",
    "                    anchor: 'volumes/gt_threeclass',\n",
    "                },\n",
    "                array_specs={\n",
    "                    raw: gp.ArraySpec(interpolatable=True),\n",
    "                    gt_threeclass: gp.ArraySpec(interpolatable=False),\n",
    "                    anchor: gp.ArraySpec(interpolatable=False)\n",
    "                }\n",
    "            )\n",
    "            + gp.MergeProvider()\n",
    "            + gp.Pad(raw, None)\n",
    "            + gp.Pad(gt_threeclass, None)\n",
    "            + gp.Pad(anchor, gp.Coordinate((2,2,2)))\n",
    "\n",
    "\n",
    "            # chose a random location for each requested batch\n",
    "            + gp.RandomLocation()\n",
    "\n",
    "            for t in range(ln)\n",
    "        ) +\n",
    "\n",
    "        # chose a random source (i.e., sample) from the above\n",
    "        gp.RandomProvider() +\n",
    "\n",
    "\n",
    "\n",
    "\n",
    "\n",
    "\n",
    "\n",
    "\n",
    "       \n",
    "\n",
    "        # show a summary of time spend in each node every 10 iterations\n",
    "        gp.PrintProfilingStats(every=kwargs['profiling'])\n",
    "    )\n",
    "\n",
    "    #########\n",
    "    # TRAIN #\n",
    "    #########\n",
    "    print(\"Starting training...\")\n",
    "    with gp.build(pipeline):\n",
    "        print(pipeline)\n",
    "        for i in range(trained_until, kwargs['max_iteration']):\n",
    "            # print(\"request\", request)\n",
    "            start = time.time()\n",
    "            pipeline.request_batch(request)\n",
    "            time_of_iteration = time.time() - start\n",
    "\n",
    "            logger.info(\n",
    "                \"Batch: iteration=%d, time=%f\",\n",
    "                i, time_of_iteration)\n",
    "            # exit()\n",
    "    print(\"Training finished\")"
   ]
  },
  {
   "cell_type": "code",
   "execution_count": null,
   "metadata": {},
   "outputs": [],
   "source": [
    "pipeline =( tuple (\n",
    "    gp.ZarrSource(\n",
    "    files[t],  # the zarr container\n",
    "    {raw: 'raw', gt : 'ground_truth'},  # which dataset to associate to the array key\n",
    "    {raw: gp.ArraySpec(interpolatable=True),\n",
    "     gt: gp.ArraySpec(interpolatable=True)}  # meta-information\n",
    "    )\n",
    "    + gp.RandomLocation()\n",
    "    \n",
    "    for t in range(len(files))\n",
    ")\n",
    "           + gp.RandomProvider() \n",
    "           +\n",
    "             # perform one training iteration for each passing batch (here we use\n",
    "        # the tensor names earlier stored in train_net.config)\n",
    "        gp.tensorflow.Train(\n",
    "            os.path.join(output_folder, net_name),\n",
    "            optimizer=optimizer,\n",
    "#             summary=net_names['summaries'],\n",
    "            log_dir=output_folder,\n",
    "            loss=loss,\n",
    "            inputs={\n",
    "                'raw': raw\n",
    "#                 ,\n",
    "#                 net_names['anchor']: anchor,\n",
    "#                 net_names['gt_threeclass']: gt_threeclass,\n",
    "#                 net_names['loss_weights_threeclass']: loss_weights_threeclass\n",
    "            },\n",
    "            outputs={\n",
    "                'ground_truth': gt\n",
    "#                 ,\n",
    "#                 net_names['raw_cropped']: raw_cropped,\n",
    "            },\n",
    "#             gradients={\n",
    "#                 net_names['pred_threeclass']: pred_threeclass_gradients,\n",
    "#             },\n",
    "            save_every=100) +\n",
    "          + gp.PrintProfilingStats(every=10)\n",
    "          )\n",
    "\n",
    "# stack = gp.Stack(5)\n",
    "# simple_augment = gp.SimpleAugment()"
   ]
  },
  {
   "cell_type": "code",
   "execution_count": 97,
   "metadata": {},
   "outputs": [],
   "source": [
    "# alls['raw'].dtype"
   ]
  },
  {
   "cell_type": "code",
   "execution_count": 98,
   "metadata": {},
   "outputs": [],
   "source": [
    "# plt.imshow(batch[raw].data[0])"
   ]
  },
  {
   "cell_type": "code",
   "execution_count": null,
   "metadata": {},
   "outputs": [],
   "source": []
  }
 ],
 "metadata": {
  "kernelspec": {
   "display_name": "Python 3",
   "language": "python",
   "name": "python3"
  },
  "language_info": {
   "codemirror_mode": {
    "name": "ipython",
    "version": 3
   },
   "file_extension": ".py",
   "mimetype": "text/x-python",
   "name": "python",
   "nbconvert_exporter": "python",
   "pygments_lexer": "ipython3",
   "version": "3.6.8"
  }
 },
 "nbformat": 4,
 "nbformat_minor": 2
}
