{
 "cells": [
  {
   "cell_type": "code",
   "execution_count": null,
   "metadata": {},
   "outputs": [],
   "source": [
    "import model \n",
    "import data \n",
    "import matplotlib.pyplot as plt\n",
    "from importlib import reload\n",
    "reload(data)\n",
    "reload(model)"
   ]
  },
  {
   "cell_type": "code",
   "execution_count": null,
   "metadata": {},
   "outputs": [],
   "source": [
    "# for Gunpowder\n",
    "ZARR_FOLDER = '../../../../data/cells/raw/zarr/old/'\n",
    "ZARR_FOLDER_TRAIN = '../../../../data/cells/raw/zarr/train/'\n",
    "ZARR_FOLDER_TEST = '../../../../data/cells/raw/zarr/test/'\n",
    "gp_batch_size= 12\n",
    "gp_voxel_shape = [1,1,1]\n",
    "gp_input_shape= [256, 256,4]\n",
    "gp_output_shape = [ 256, 256,4]\n",
    "\n",
    "# For unet\n",
    "OUTPUT_PATH = '../../../../data/cells/models/'\n",
    "\n",
    "unet_input_size = (256,256,4)\n",
    "unet_output_size = 4"
   ]
  },
  {
   "cell_type": "code",
   "execution_count": null,
   "metadata": {},
   "outputs": [],
   "source": [
    "from datetime import date\n",
    "\n",
    "today = date.today()\n",
    "\n",
    "d1 = today.strftime(\"%d_%m_%Y_\")\n",
    "model_name = d1+'unet_v1_cells.hdf5'\n",
    "model_name"
   ]
  },
  {
   "cell_type": "markdown",
   "metadata": {},
   "source": [
    "### Check data "
   ]
  },
  {
   "cell_type": "code",
   "execution_count": null,
   "metadata": {},
   "outputs": [],
   "source": [
    "gen_train_fast = data.generate_fast_training_batch(ZARR_FOLDER, batch_size=gp_batch_size\n",
    "                                              ,voxel_shape = gp_voxel_shape,\n",
    "                                              input_shape= gp_input_shape,output_shape = gp_output_shape )\n",
    "gen_train_fast2 = data.generate_fast_training_batch(ZARR_FOLDER_TRAIN, batch_size=gp_batch_size\n",
    "                                              ,voxel_shape = gp_voxel_shape,\n",
    "                                              input_shape= gp_input_shape,output_shape = gp_output_shape )\n",
    "gen_test_fast = data.generate_fast_training_batch(ZARR_FOLDER_TEST, batch_size=gp_batch_size\n",
    "                                              ,voxel_shape = gp_voxel_shape,\n",
    "                                              input_shape= gp_input_shape,output_shape = gp_output_shape )"
   ]
  },
  {
   "cell_type": "code",
   "execution_count": null,
   "metadata": {},
   "outputs": [],
   "source": [
    "im,mask = next(gen_train_fast)"
   ]
  },
  {
   "cell_type": "code",
   "execution_count": null,
   "metadata": {},
   "outputs": [],
   "source": [
    "test_im = im[0]\n",
    "test_mask = mask[0]\n",
    "\n",
    "print('Img size: {} {} < {} | Mask size: {} {} <{}'.format(test_im.shape,test_im.dtype,test_im.max()\n",
    "                                                                   ,test_mask.shape,test_mask.dtype,test_mask.max()))"
   ]
  },
  {
   "cell_type": "code",
   "execution_count": null,
   "metadata": {},
   "outputs": [],
   "source": [
    "plt.imshow(test_im[:,:,2])\n",
    "plt.show()\n",
    "plt.imshow(test_mask[:,:,3])\n",
    "plt.show()"
   ]
  },
  {
   "cell_type": "markdown",
   "metadata": {},
   "source": [
    "### Model"
   ]
  },
  {
   "cell_type": "code",
   "execution_count": null,
   "metadata": {},
   "outputs": [],
   "source": [
    "unet_model = model.unet(input_size = unet_input_size ,output_size = unet_output_size)"
   ]
  },
  {
   "cell_type": "code",
   "execution_count": null,
   "metadata": {},
   "outputs": [],
   "source": [
    "unet_model.summary()"
   ]
  },
  {
   "cell_type": "code",
   "execution_count": null,
   "metadata": {},
   "outputs": [],
   "source": []
  },
  {
   "cell_type": "markdown",
   "metadata": {},
   "source": [
    "### Train"
   ]
  },
  {
   "cell_type": "code",
   "execution_count": null,
   "metadata": {},
   "outputs": [],
   "source": []
  },
  {
   "cell_type": "code",
   "execution_count": null,
   "metadata": {},
   "outputs": [],
   "source": [
    "from tensorflow.keras.callbacks import ModelCheckpoint, LearningRateScheduler, ReduceLROnPlateau\n",
    "import os\n",
    "\n",
    "model_file = os.path.join(OUTPUT_PATH,model_name)\n",
    "# mean_io_u\n",
    "model_checkpoint = ModelCheckpoint(model_file, monitor='val_loss',verbose=1, save_best_only=True)\n",
    "reduce_lr = ReduceLROnPlateau(monitor='val_loss', factor=0.5,\n",
    "                              patience=5, min_lr=0.000001, verbose=1,  cooldown=1)"
   ]
  },
  {
   "cell_type": "code",
   "execution_count": null,
   "metadata": {},
   "outputs": [],
   "source": [
    "history = unet_model.fit_generator(gen_train_fast,validation_data =gen_test_fast,validation_steps=10,steps_per_epoch=50,epochs=10,callbacks=[model_checkpoint,reduce_lr])\n"
   ]
  },
  {
   "cell_type": "markdown",
   "metadata": {},
   "source": [
    "### Test"
   ]
  },
  {
   "cell_type": "code",
   "execution_count": null,
   "metadata": {},
   "outputs": [],
   "source": [
    "im,mask = next(gen_train_fast)"
   ]
  },
  {
   "cell_type": "code",
   "execution_count": null,
   "metadata": {},
   "outputs": [],
   "source": [
    "import matplotlib.pyplot as plt\n",
    "plt.imshow(im[0][:,:,2])\n",
    "# print(im[0])"
   ]
  },
  {
   "cell_type": "code",
   "execution_count": null,
   "metadata": {},
   "outputs": [],
   "source": [
    "results = unet_model.predict(im)"
   ]
  },
  {
   "cell_type": "code",
   "execution_count": null,
   "metadata": {},
   "outputs": [],
   "source": [
    "plt.imshow(results[3][:,:,1])"
   ]
  },
  {
   "cell_type": "code",
   "execution_count": null,
   "metadata": {},
   "outputs": [],
   "source": []
  },
  {
   "cell_type": "code",
   "execution_count": null,
   "metadata": {},
   "outputs": [],
   "source": [
    "today = date.today()\n",
    "\n",
    "d1 = today.strftime(\"%d_%m_%Y_\")\n",
    "model_name2 = d1+'unet_v2_cells.hdf5'\n",
    "model_name2"
   ]
  },
  {
   "cell_type": "code",
   "execution_count": null,
   "metadata": {},
   "outputs": [],
   "source": []
  },
  {
   "cell_type": "code",
   "execution_count": null,
   "metadata": {},
   "outputs": [],
   "source": [
    "unet_model_v2 = model.unet(input_size = unet_input_size ,output_size = unet_output_size)"
   ]
  },
  {
   "cell_type": "code",
   "execution_count": null,
   "metadata": {},
   "outputs": [],
   "source": [
    "from tensorflow.keras.callbacks import ModelCheckpoint, LearningRateScheduler\n",
    "import os\n",
    "\n",
    "model_file2 = os.path.join(OUTPUT_PATH,model_name2)\n",
    "# mean_io_u\n",
    "model_checkpoint2 = ModelCheckpoint(model_file2, monitor='mean_io_u',verbose=1, save_best_only=True)"
   ]
  },
  {
   "cell_type": "code",
   "execution_count": null,
   "metadata": {},
   "outputs": [],
   "source": [
    "history2 = unet_model_v2.fit_generator(gen_train_fast2, validation_data =gen_test_fast,  steps_per_epoch=50,epochs=200,callbacks=[model_checkpoint2])\n"
   ]
  },
  {
   "cell_type": "code",
   "execution_count": null,
   "metadata": {},
   "outputs": [],
   "source": []
  },
  {
   "cell_type": "code",
   "execution_count": null,
   "metadata": {},
   "outputs": [],
   "source": []
  }
 ],
 "metadata": {
  "kernelspec": {
   "display_name": "Python 3",
   "language": "python",
   "name": "python3"
  },
  "language_info": {
   "codemirror_mode": {
    "name": "ipython",
    "version": 3
   },
   "file_extension": ".py",
   "mimetype": "text/x-python",
   "name": "python",
   "nbconvert_exporter": "python",
   "pygments_lexer": "ipython3",
   "version": "3.6.8"
  }
 },
 "nbformat": 4,
 "nbformat_minor": 2
}
