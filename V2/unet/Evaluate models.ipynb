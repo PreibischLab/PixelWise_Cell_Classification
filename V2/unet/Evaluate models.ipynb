{
 "cells": [
  {
   "cell_type": "code",
   "execution_count": 2,
   "metadata": {},
   "outputs": [],
   "source": [
    "import os\n",
    "import data"
   ]
  },
  {
   "cell_type": "code",
   "execution_count": 3,
   "metadata": {},
   "outputs": [],
   "source": [
    "from tensorflow.keras.models import load_model"
   ]
  },
  {
   "cell_type": "code",
   "execution_count": 4,
   "metadata": {},
   "outputs": [],
   "source": [
    "ZARR_TEST_FOLDER = '../../../../data/cells/raw/zarr/test/'\n",
    "MODEL_FOLDER     = '../../../../data/cells/models/'\n",
    "MODELS_FILES = ['unet_cells.hdf5','08_09_2020_unet_v1_cells.hdf5',\n",
    "                '09_09_2020_unet_v1_cells.hdf5','09_09_2020_unet_v2_cells.hdf5',\n",
    "                '09_09_2020_unet_v3_cells.hdf5','09_09_2020_unet_v4_cells.hdf5']\n",
    "gp_batch_size= 12\n",
    "gp_voxel_shape = [1,1,1]\n",
    "gp_input_shape= [256,256,4]\n",
    "gp_output_shape = [256,256,4]"
   ]
  },
  {
   "cell_type": "code",
   "execution_count": 5,
   "metadata": {},
   "outputs": [
    {
     "name": "stdout",
     "output_type": "stream",
     "text": [
      "['../../../../data/cells/raw/zarr/test/20072019_ND9_ND11_DIV0-1_Daam1_aTub_Phallo_18_ch_4.zarr']\n",
      "['../../../../data/cells/models/unet_cells.hdf5', '../../../../data/cells/models/08_09_2020_unet_v1_cells.hdf5', '../../../../data/cells/models/09_09_2020_unet_v1_cells.hdf5', '../../../../data/cells/models/09_09_2020_unet_v2_cells.hdf5', '../../../../data/cells/models/09_09_2020_unet_v3_cells.hdf5', '../../../../data/cells/models/09_09_2020_unet_v4_cells.hdf5']\n"
     ]
    }
   ],
   "source": [
    "files = os.listdir(ZARR_TEST_FOLDER)\n",
    "files = [os.path.join(ZARR_TEST_FOLDER,f) for f in files ]\n",
    "print(files)\n",
    "models = [os.path.join(MODEL_FOLDER,f) for f in MODELS_FILES ]\n",
    "print(models)"
   ]
  },
  {
   "cell_type": "code",
   "execution_count": 6,
   "metadata": {},
   "outputs": [],
   "source": [
    "gen_test_fast = data.generate_fast_training_batch(ZARR_TEST_FOLDER, batch_size=gp_batch_size\n",
    "                                              ,voxel_shape = gp_voxel_shape,\n",
    "                                              input_shape= gp_input_shape,output_shape = gp_output_shape )"
   ]
  },
  {
   "cell_type": "code",
   "execution_count": 8,
   "metadata": {},
   "outputs": [
    {
     "name": "stdout",
     "output_type": "stream",
     "text": [
      "[0.11750929839909077, 0.97347665]\n",
      "[0.03379344968125224, 0.91440547]\n",
      "[0.13306865841150284, 0.9454752, 0.37624493]\n",
      "[0.09378152005374432, 0.9492518, 0.37617078]\n",
      "[0.10822730213403702, 0.9467643, 0.37637985]\n",
      "[0.08861200027167797, 0.95317405, 0.37669978]\n"
     ]
    }
   ],
   "source": [
    "for model_path in models:\n",
    "    model = load_model(model_path)\n",
    "    x = model.evaluate_generator( gen_test_fast,  steps=20)\n",
    "    print(x)"
   ]
  },
  {
   "cell_type": "code",
   "execution_count": null,
   "metadata": {},
   "outputs": [],
   "source": []
  }
 ],
 "metadata": {
  "kernelspec": {
   "display_name": "Python 3",
   "language": "python",
   "name": "python3"
  },
  "language_info": {
   "codemirror_mode": {
    "name": "ipython",
    "version": 3
   },
   "file_extension": ".py",
   "mimetype": "text/x-python",
   "name": "python",
   "nbconvert_exporter": "python",
   "pygments_lexer": "ipython3",
   "version": "3.6.8"
  }
 },
 "nbformat": 4,
 "nbformat_minor": 2
}
