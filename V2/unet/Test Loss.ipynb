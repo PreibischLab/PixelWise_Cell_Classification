{
 "cells": [
  {
   "cell_type": "code",
   "execution_count": null,
   "metadata": {},
   "outputs": [],
   "source": [
    "from loss import diceCoef,IoULoss\n",
    "import data \n",
    "import numpy as np\n",
    "# import model 0\n",
    "# import matplotlib.pyplot as plt\n",
    "# from importlib import reload\n",
    "# reload(data)\n",
    "# # reload(model)"
   ]
  },
  {
   "cell_type": "code",
   "execution_count": null,
   "metadata": {},
   "outputs": [],
   "source": [
    "# for Gunpowder\n",
    "ZARR_FOLDER_TRAIN = '../../../../data/cells/raw/zarr/train/'\n",
    "ZARR_FOLDER_TEST = '../../../../data/cells/raw/zarr/test/'\n",
    "gp_batch_size= 1\n",
    "gp_voxel_shape = [1,1,1]\n",
    "gp_input_shape= [572, 572,4]\n",
    "gp_output_shape = [ 388, 388,3]"
   ]
  },
  {
   "cell_type": "code",
   "execution_count": null,
   "metadata": {},
   "outputs": [],
   "source": [
    "gen_train_fast = data.generate_fast_training_batch_different_shape(ZARR_FOLDER_TRAIN, batch_size=gp_batch_size\n",
    "                                              ,voxel_shape = gp_voxel_shape,\n",
    "                                              input_shape= gp_input_shape,output_shape = gp_output_shape )"
   ]
  },
  {
   "cell_type": "code",
   "execution_count": null,
   "metadata": {},
   "outputs": [],
   "source": [
    "im,mask = next(gen_train_fast)\n",
    "im2,mask2 = next(gen_train_fast)\n",
    "print(im.shape)\n",
    "print(mask.shape)"
   ]
  },
  {
   "cell_type": "code",
   "execution_count": null,
   "metadata": {},
   "outputs": [],
   "source": [
    "mask2 = mask\n",
    "mask2[:,0:200,0:200,:]=0"
   ]
  },
  {
   "cell_type": "code",
   "execution_count": null,
   "metadata": {},
   "outputs": [],
   "source": [
    "\n",
    "print(np.unique(mask, return_counts=True))\n",
    "print(np.unique(mask2, return_counts=True))"
   ]
  },
  {
   "cell_type": "code",
   "execution_count": null,
   "metadata": {},
   "outputs": [],
   "source": [
    "print(diceCoef(mask,mask2))\n",
    "print(IoULoss(mask,mask2))"
   ]
  },
  {
   "cell_type": "markdown",
   "metadata": {},
   "source": [
    "### Check data "
   ]
  },
  {
   "cell_type": "code",
   "execution_count": null,
   "metadata": {},
   "outputs": [],
   "source": []
  },
  {
   "cell_type": "code",
   "execution_count": null,
   "metadata": {},
   "outputs": [],
   "source": []
  },
  {
   "cell_type": "code",
   "execution_count": null,
   "metadata": {},
   "outputs": [],
   "source": []
  },
  {
   "cell_type": "code",
   "execution_count": null,
   "metadata": {},
   "outputs": [],
   "source": [
    "test_im = im[0]\n",
    "test_mask = mask[0]\n",
    "\n",
    "print('Img size: {} {} < {} | Mask size: {} {} <{}'.format(test_im.shape,test_im.dtype,test_im.max()\n",
    "                                                                   ,test_mask.shape,test_mask.dtype,test_mask.max()))"
   ]
  },
  {
   "cell_type": "code",
   "execution_count": null,
   "metadata": {},
   "outputs": [],
   "source": [
    "plt.imshow(test_im[:,:,2])\n",
    "plt.show()\n",
    "plt.imshow(test_mask[:,:,0])\n",
    "plt.show()"
   ]
  },
  {
   "cell_type": "markdown",
   "metadata": {},
   "source": [
    "### Model"
   ]
  },
  {
   "cell_type": "code",
   "execution_count": null,
   "metadata": {},
   "outputs": [],
   "source": [
    "unet_model = model.unet_valid(input_size = unet_input_size ,output_size = unet_output_size)"
   ]
  },
  {
   "cell_type": "code",
   "execution_count": null,
   "metadata": {},
   "outputs": [],
   "source": [
    "unet_model.summary()"
   ]
  },
  {
   "cell_type": "code",
   "execution_count": null,
   "metadata": {},
   "outputs": [],
   "source": []
  },
  {
   "cell_type": "markdown",
   "metadata": {},
   "source": [
    "### Train"
   ]
  },
  {
   "cell_type": "code",
   "execution_count": null,
   "metadata": {},
   "outputs": [],
   "source": [
    "import os\n",
    "GRAPHS_FOLDER = '../../../../data/cells/graphs/'\n",
    "GRAPH_NAME = os.path.join(GRAPHS_FOLDER,base_name+'.png')\n",
    "\n",
    "from tensorflow import keras\n",
    "import IPython.display as display\n",
    "class PlotLosses(keras.callbacks.Callback):\n",
    "    def on_train_begin(self, logs={}):\n",
    "        self.i = 0\n",
    "        self.x = []\n",
    "        self.losses = []\n",
    "        self.val_losses = []\n",
    "        self.history = {}\n",
    "        self.fig = plt.figure()\n",
    "        \n",
    "        self.logs = []\n",
    "#         plt.show()\n",
    "\n",
    "    def on_epoch_end(self, epoch, logs={}):\n",
    "        \n",
    "        self.logs.append(logs)\n",
    "        self.x.append(self.i)\n",
    "        for l in logs:\n",
    "            if l not in self.history:\n",
    "                self.history[l]=[]\n",
    "            self.history[l].append(logs.get(l))\n",
    "        self.i += 1\n",
    "        \n",
    "        display.clear_output(wait=True)\n",
    "        for l in logs:\n",
    "            plt.plot(self.x, self.history[l], label=l)\n",
    "        plt.legend()\n",
    "        plt.savefig(GRAPH_NAME)\n",
    "        plt.show();\n",
    "        \n",
    "plot_losses = PlotLosses()"
   ]
  },
  {
   "cell_type": "code",
   "execution_count": null,
   "metadata": {},
   "outputs": [],
   "source": [
    "from tensorflow.keras.callbacks import ModelCheckpoint, LearningRateScheduler, ReduceLROnPlateau\n",
    "import os\n",
    "# import PersonalizedCallbacks\n",
    "\n",
    "model_file = os.path.join(OUTPUT_PATH,model_name)\n",
    "# mean_io_u\n",
    "model_checkpoint = ModelCheckpoint(model_file, monitor='val_loss',verbose=0, save_best_only=True)\n",
    "# reduce_lr = ReduceLROnPlateau(monitor='val_loss', factor=0.5,\n",
    "#                               patience=5, min_lr=0.000001, verbose=1,  cooldown=1)"
   ]
  },
  {
   "cell_type": "code",
   "execution_count": null,
   "metadata": {},
   "outputs": [],
   "source": [
    "# model_checkpoint,plot_losses\n",
    "# validation_data =gen_test_fast,validation_steps=5,\n",
    "history = unet_model.fit_generator(gen_train_fast,steps_per_epoch=30,epochs=50,callbacks=[],verbose=1)\n"
   ]
  },
  {
   "cell_type": "markdown",
   "metadata": {},
   "source": [
    "### Test"
   ]
  },
  {
   "cell_type": "code",
   "execution_count": null,
   "metadata": {},
   "outputs": [],
   "source": [
    "im,mask = next(gen_train_fast)"
   ]
  },
  {
   "cell_type": "code",
   "execution_count": null,
   "metadata": {},
   "outputs": [],
   "source": [
    "import matplotlib.pyplot as plt\n",
    "plt.imshow(im[0][:,:,2])\n",
    "# print(im[0])"
   ]
  },
  {
   "cell_type": "code",
   "execution_count": null,
   "metadata": {},
   "outputs": [],
   "source": [
    "results = unet_model.predict(im)"
   ]
  },
  {
   "cell_type": "code",
   "execution_count": null,
   "metadata": {},
   "outputs": [],
   "source": [
    "plt.imshow(results[3][:,:,1])"
   ]
  },
  {
   "cell_type": "code",
   "execution_count": null,
   "metadata": {},
   "outputs": [],
   "source": [
    "import json\n",
    "history2_file = os.path.join(OUTPUT_PATH,base_name+'.json')\n",
    "history_v2_dict = history.history\n",
    "json.dump(str(history_v2_dict), open(history2_file, 'w'))"
   ]
  },
  {
   "cell_type": "code",
   "execution_count": null,
   "metadata": {},
   "outputs": [],
   "source": [
    "print(str(history_v2_dict))"
   ]
  },
  {
   "cell_type": "code",
   "execution_count": null,
   "metadata": {},
   "outputs": [],
   "source": []
  },
  {
   "cell_type": "code",
   "execution_count": null,
   "metadata": {},
   "outputs": [],
   "source": []
  },
  {
   "cell_type": "code",
   "execution_count": null,
   "metadata": {},
   "outputs": [],
   "source": []
  },
  {
   "cell_type": "code",
   "execution_count": null,
   "metadata": {},
   "outputs": [],
   "source": []
  },
  {
   "cell_type": "code",
   "execution_count": null,
   "metadata": {},
   "outputs": [],
   "source": []
  },
  {
   "cell_type": "code",
   "execution_count": null,
   "metadata": {},
   "outputs": [],
   "source": []
  }
 ],
 "metadata": {
  "kernelspec": {
   "display_name": "Python 3",
   "language": "python",
   "name": "python3"
  },
  "language_info": {
   "codemirror_mode": {
    "name": "ipython",
    "version": 3
   },
   "file_extension": ".py",
   "mimetype": "text/x-python",
   "name": "python",
   "nbconvert_exporter": "python",
   "pygments_lexer": "ipython3",
   "version": "3.6.8"
  }
 },
 "nbformat": 4,
 "nbformat_minor": 2
}
