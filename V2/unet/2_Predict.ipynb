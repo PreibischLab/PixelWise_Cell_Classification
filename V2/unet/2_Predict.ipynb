{
 "cells": [
  {
   "cell_type": "code",
   "execution_count": null,
   "metadata": {},
   "outputs": [],
   "source": [
    "from tensorflow.keras.models import load_model\n",
    "from data import *\n",
    "import os"
   ]
  },
  {
   "cell_type": "code",
   "execution_count": null,
   "metadata": {},
   "outputs": [],
   "source": [
    "# for Gunpowder\n",
    "ZARR_FOLDER = '../../../../data/cells/raw/zarr/'\n",
    "gp_batch_size= 12\n",
    "gp_voxel_shape = [1,1,1]\n",
    "gp_input_shape= [256,256,4]\n",
    "gp_output_shape = [256,256,4]\n",
    "\n",
    "# For unet\n",
    "OUTPUT_PATH = '../../../../data/cells/models/'\n",
    "model_name = 'unet_cells.hdf5'\n",
    "# unet_input_size = (256,256,4)\n",
    "# unet_output_size = 4"
   ]
  },
  {
   "cell_type": "markdown",
   "metadata": {},
   "source": [
    "### Load Model"
   ]
  },
  {
   "cell_type": "code",
   "execution_count": null,
   "metadata": {},
   "outputs": [],
   "source": [
    "model_path = os.path.join(OUTPUT_PATH,model_name)"
   ]
  },
  {
   "cell_type": "code",
   "execution_count": null,
   "metadata": {},
   "outputs": [],
   "source": [
    "model = load_model(model_path)"
   ]
  },
  {
   "cell_type": "code",
   "execution_count": 5,
   "metadata": {},
   "outputs": [
    {
     "name": "stdout",
     "output_type": "stream",
     "text": [
      "Model: \"model\"\n",
      "__________________________________________________________________________________________________\n",
      "Layer (type)                    Output Shape         Param #     Connected to                     \n",
      "==================================================================================================\n",
      "input_1 (InputLayer)            [(None, 256, 256, 4) 0                                            \n",
      "__________________________________________________________________________________________________\n",
      "conv2d (Conv2D)                 (None, 256, 256, 64) 2368        input_1[0][0]                    \n",
      "__________________________________________________________________________________________________\n",
      "conv2d_1 (Conv2D)               (None, 256, 256, 64) 36928       conv2d[0][0]                     \n",
      "__________________________________________________________________________________________________\n",
      "max_pooling2d (MaxPooling2D)    (None, 128, 128, 64) 0           conv2d_1[0][0]                   \n",
      "__________________________________________________________________________________________________\n",
      "conv2d_2 (Conv2D)               (None, 128, 128, 128 73856       max_pooling2d[0][0]              \n",
      "__________________________________________________________________________________________________\n",
      "conv2d_3 (Conv2D)               (None, 128, 128, 128 147584      conv2d_2[0][0]                   \n",
      "__________________________________________________________________________________________________\n",
      "max_pooling2d_1 (MaxPooling2D)  (None, 64, 64, 128)  0           conv2d_3[0][0]                   \n",
      "__________________________________________________________________________________________________\n",
      "conv2d_4 (Conv2D)               (None, 64, 64, 256)  295168      max_pooling2d_1[0][0]            \n",
      "__________________________________________________________________________________________________\n",
      "conv2d_5 (Conv2D)               (None, 64, 64, 256)  590080      conv2d_4[0][0]                   \n",
      "__________________________________________________________________________________________________\n",
      "max_pooling2d_2 (MaxPooling2D)  (None, 32, 32, 256)  0           conv2d_5[0][0]                   \n",
      "__________________________________________________________________________________________________\n",
      "conv2d_6 (Conv2D)               (None, 32, 32, 512)  1180160     max_pooling2d_2[0][0]            \n",
      "__________________________________________________________________________________________________\n",
      "conv2d_7 (Conv2D)               (None, 32, 32, 512)  2359808     conv2d_6[0][0]                   \n",
      "__________________________________________________________________________________________________\n",
      "dropout (Dropout)               (None, 32, 32, 512)  0           conv2d_7[0][0]                   \n",
      "__________________________________________________________________________________________________\n",
      "max_pooling2d_3 (MaxPooling2D)  (None, 16, 16, 512)  0           dropout[0][0]                    \n",
      "__________________________________________________________________________________________________\n",
      "conv2d_8 (Conv2D)               (None, 16, 16, 1024) 4719616     max_pooling2d_3[0][0]            \n",
      "__________________________________________________________________________________________________\n",
      "conv2d_9 (Conv2D)               (None, 16, 16, 1024) 9438208     conv2d_8[0][0]                   \n",
      "__________________________________________________________________________________________________\n",
      "dropout_1 (Dropout)             (None, 16, 16, 1024) 0           conv2d_9[0][0]                   \n",
      "__________________________________________________________________________________________________\n",
      "up_sampling2d (UpSampling2D)    (None, 32, 32, 1024) 0           dropout_1[0][0]                  \n",
      "__________________________________________________________________________________________________\n",
      "conv2d_10 (Conv2D)              (None, 32, 32, 512)  2097664     up_sampling2d[0][0]              \n",
      "__________________________________________________________________________________________________\n",
      "concatenate (Concatenate)       (None, 32, 32, 1024) 0           dropout[0][0]                    \n",
      "                                                                 conv2d_10[0][0]                  \n",
      "__________________________________________________________________________________________________\n",
      "conv2d_11 (Conv2D)              (None, 32, 32, 512)  4719104     concatenate[0][0]                \n",
      "__________________________________________________________________________________________________\n",
      "conv2d_12 (Conv2D)              (None, 32, 32, 512)  2359808     conv2d_11[0][0]                  \n",
      "__________________________________________________________________________________________________\n",
      "up_sampling2d_1 (UpSampling2D)  (None, 64, 64, 512)  0           conv2d_12[0][0]                  \n",
      "__________________________________________________________________________________________________\n",
      "conv2d_13 (Conv2D)              (None, 64, 64, 256)  524544      up_sampling2d_1[0][0]            \n",
      "__________________________________________________________________________________________________\n",
      "concatenate_1 (Concatenate)     (None, 64, 64, 512)  0           conv2d_5[0][0]                   \n",
      "                                                                 conv2d_13[0][0]                  \n",
      "__________________________________________________________________________________________________\n",
      "conv2d_14 (Conv2D)              (None, 64, 64, 256)  1179904     concatenate_1[0][0]              \n",
      "__________________________________________________________________________________________________\n",
      "conv2d_15 (Conv2D)              (None, 64, 64, 256)  590080      conv2d_14[0][0]                  \n",
      "__________________________________________________________________________________________________\n",
      "up_sampling2d_2 (UpSampling2D)  (None, 128, 128, 256 0           conv2d_15[0][0]                  \n",
      "__________________________________________________________________________________________________\n",
      "conv2d_16 (Conv2D)              (None, 128, 128, 128 131200      up_sampling2d_2[0][0]            \n",
      "__________________________________________________________________________________________________\n",
      "concatenate_2 (Concatenate)     (None, 128, 128, 256 0           conv2d_3[0][0]                   \n",
      "                                                                 conv2d_16[0][0]                  \n",
      "__________________________________________________________________________________________________\n",
      "conv2d_17 (Conv2D)              (None, 128, 128, 128 295040      concatenate_2[0][0]              \n",
      "__________________________________________________________________________________________________\n",
      "conv2d_18 (Conv2D)              (None, 128, 128, 128 147584      conv2d_17[0][0]                  \n",
      "__________________________________________________________________________________________________\n",
      "up_sampling2d_3 (UpSampling2D)  (None, 256, 256, 128 0           conv2d_18[0][0]                  \n",
      "__________________________________________________________________________________________________\n",
      "conv2d_19 (Conv2D)              (None, 256, 256, 64) 32832       up_sampling2d_3[0][0]            \n",
      "__________________________________________________________________________________________________\n",
      "concatenate_3 (Concatenate)     (None, 256, 256, 128 0           conv2d_1[0][0]                   \n",
      "                                                                 conv2d_19[0][0]                  \n",
      "__________________________________________________________________________________________________\n",
      "conv2d_20 (Conv2D)              (None, 256, 256, 64) 73792       concatenate_3[0][0]              \n",
      "__________________________________________________________________________________________________\n",
      "conv2d_21 (Conv2D)              (None, 256, 256, 64) 36928       conv2d_20[0][0]                  \n",
      "__________________________________________________________________________________________________\n",
      "conv2d_22 (Conv2D)              (None, 256, 256, 4)  260         conv2d_21[0][0]                  \n",
      "==================================================================================================\n",
      "Total params: 31,032,516\n",
      "Trainable params: 31,032,516\n",
      "Non-trainable params: 0\n",
      "__________________________________________________________________________________________________\n"
     ]
    }
   ],
   "source": [
    "model.summary()"
   ]
  },
  {
   "cell_type": "markdown",
   "metadata": {},
   "source": [
    "### Block generation to prediction"
   ]
  },
  {
   "cell_type": "code",
   "execution_count": 6,
   "metadata": {},
   "outputs": [
    {
     "name": "stdout",
     "output_type": "stream",
     "text": [
      "We have 4 - 4 blocks \n"
     ]
    },
    {
     "data": {
      "text/plain": [
       "[[0, 0, 256, 256],\n",
       " [0, 256, 256, 512],\n",
       " [0, 512, 256, 768],\n",
       " [0, 768, 256, 1024],\n",
       " [256, 0, 512, 256],\n",
       " [256, 256, 512, 512],\n",
       " [256, 512, 512, 768],\n",
       " [256, 768, 512, 1024],\n",
       " [512, 0, 768, 256],\n",
       " [512, 256, 768, 512],\n",
       " [512, 512, 768, 768],\n",
       " [512, 768, 768, 1024],\n",
       " [768, 0, 1024, 256],\n",
       " [768, 256, 1024, 512],\n",
       " [768, 512, 1024, 768],\n",
       " [768, 768, 1024, 1024]]"
      ]
     },
     "execution_count": 6,
     "metadata": {},
     "output_type": "execute_result"
    }
   ],
   "source": [
    "def getBlocks(img_size, block_size):\n",
    "    w = img_size[0] // block_size[0]\n",
    "    h = img_size[1] // block_size[1]\n",
    "    result = []\n",
    "    print(\"We have {} - {} blocks \".format(w,h))\n",
    "    for i in range(w):\n",
    "        for j in range(h):\n",
    "            x1 = i*block_size[0]\n",
    "            y1 = j*block_size[1]\n",
    "            x2 = x1+block_size[0]\n",
    "            y2 = y1 + block_size[1]\n",
    "            result.append([x1,y1,x2,y2])\n",
    "    return result\n",
    "    \n",
    "blocks = getBlocks([1024,1024,4],[256,256,4])\n",
    "blocks"
   ]
  },
  {
   "cell_type": "code",
   "execution_count": 7,
   "metadata": {},
   "outputs": [
    {
     "data": {
      "text/plain": [
       "['../../../../data/cells/raw/zarr/20072019_ND9_ND11_DIV0-1_Daam1_aTub_Phallo_1_ch_4.zarr',\n",
       " '../../../../data/cells/raw/zarr/ND8_DIV0+4h_20x_noConfinment_6_ch_4.zarr']"
      ]
     },
     "execution_count": 7,
     "metadata": {},
     "output_type": "execute_result"
    }
   ],
   "source": [
    "files = os.listdir(ZARR_FOLDER)\n",
    "files = [os.path.join(ZARR_FOLDER,f) for f in files ]\n",
    "files"
   ]
  },
  {
   "cell_type": "markdown",
   "metadata": {},
   "source": [
    "#### Append to data 'prediction' with the result of prediction assumbled"
   ]
  },
  {
   "cell_type": "code",
   "execution_count": 8,
   "metadata": {},
   "outputs": [
    {
     "name": "stdout",
     "output_type": "stream",
     "text": [
      "processing ../../../../data/cells/raw/zarr/20072019_ND9_ND11_DIV0-1_Daam1_aTub_Phallo_1_ch_4.zarr\n",
      "Processing block [0, 0, 256, 256]\n",
      "Processing block [0, 256, 256, 512]\n",
      "Processing block [0, 512, 256, 768]\n",
      "Processing block [0, 768, 256, 1024]\n",
      "Processing block [256, 0, 512, 256]\n",
      "Processing block [256, 256, 512, 512]\n",
      "Processing block [256, 512, 512, 768]\n",
      "Processing block [256, 768, 512, 1024]\n",
      "Processing block [512, 0, 768, 256]\n",
      "Processing block [512, 256, 768, 512]\n",
      "Processing block [512, 512, 768, 768]\n",
      "Processing block [512, 768, 768, 1024]\n",
      "Processing block [768, 0, 1024, 256]\n",
      "Processing block [768, 256, 1024, 512]\n",
      "Processing block [768, 512, 1024, 768]\n",
      "Processing block [768, 768, 1024, 1024]\n",
      "processing ../../../../data/cells/raw/zarr/ND8_DIV0+4h_20x_noConfinment_6_ch_4.zarr\n",
      "Processing block [0, 0, 256, 256]\n",
      "Processing block [0, 256, 256, 512]\n",
      "Processing block [0, 512, 256, 768]\n",
      "Processing block [0, 768, 256, 1024]\n",
      "Processing block [256, 0, 512, 256]\n",
      "Processing block [256, 256, 512, 512]\n",
      "Processing block [256, 512, 512, 768]\n",
      "Processing block [256, 768, 512, 1024]\n",
      "Processing block [512, 0, 768, 256]\n",
      "Processing block [512, 256, 768, 512]\n",
      "Processing block [512, 512, 768, 768]\n",
      "Processing block [512, 768, 768, 1024]\n",
      "Processing block [768, 0, 1024, 256]\n",
      "Processing block [768, 256, 1024, 512]\n",
      "Processing block [768, 512, 1024, 768]\n",
      "Processing block [768, 768, 1024, 1024]\n"
     ]
    }
   ],
   "source": [
    "for f in files:\n",
    "    print('processing {}'.format(f))\n",
    "    batches = generate_test_batch(f,blocks)\n",
    "    results = model.predict(np.array(batches['raw']))\n",
    "    add_data(zarr_file= f,name= 'prediction',\n",
    "             img_shape= (1024, 1024, 4),boxes_positions= blocks,data = results)"
   ]
  },
  {
   "cell_type": "code",
   "execution_count": null,
   "metadata": {},
   "outputs": [],
   "source": []
  }
 ],
 "metadata": {
  "kernelspec": {
   "display_name": "Python 3",
   "language": "python",
   "name": "python3"
  },
  "language_info": {
   "codemirror_mode": {
    "name": "ipython",
    "version": 3
   },
   "file_extension": ".py",
   "mimetype": "text/x-python",
   "name": "python",
   "nbconvert_exporter": "python",
   "pygments_lexer": "ipython3",
   "version": "3.6.8"
  }
 },
 "nbformat": 4,
 "nbformat_minor": 2
}
