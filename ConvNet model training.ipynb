{
 "cells": [
  {
   "cell_type": "code",
   "execution_count": 69,
   "metadata": {},
   "outputs": [],
   "source": [
    "import tensorflow as tf\n",
    "from sklearn.model_selection import train_test_split\n",
    "import pickle"
   ]
  },
  {
   "cell_type": "code",
   "execution_count": 52,
   "metadata": {},
   "outputs": [],
   "source": [
    "InputPath = \"\"\n",
    "X = pickle.load(open(InputPath+\"X.pickle\",\"rb\"))\n",
    "y = pickle.load(open(InputPath+\"y.pickle\",\"rb\"))"
   ]
  },
  {
   "cell_type": "code",
   "execution_count": 73,
   "metadata": {},
   "outputs": [
    {
     "name": "stdout",
     "output_type": "stream",
     "text": [
      "(50, 50, 3)\n",
      "(1,)\n"
     ]
    }
   ],
   "source": [
    "X = X/255.0\n",
    "print(X.shape[1:])\n",
    "print(y.shape[1:])"
   ]
  },
  {
   "cell_type": "code",
   "execution_count": 74,
   "metadata": {},
   "outputs": [],
   "source": [
    "train_X, test_X, train_y, test_y = train_test_split(X, y, train_size=0.8, test_size=0.2, random_state=0)"
   ]
  },
  {
   "cell_type": "code",
   "execution_count": 75,
   "metadata": {},
   "outputs": [],
   "source": [
    "import time\n",
    "NAME = \"Cnn64x2-{}-fix_X_withActivation\".format(int(time.time()))"
   ]
  },
  {
   "cell_type": "code",
   "execution_count": 76,
   "metadata": {},
   "outputs": [],
   "source": [
    "# gpu_option = tf.GPUOptions(per_process_gpu_memory_fraction=0.333)\n",
    "# sess = tf.Session(config=tf.ConfigProto(gpu_options=gpu_options))"
   ]
  },
  {
   "cell_type": "code",
   "execution_count": 77,
   "metadata": {},
   "outputs": [],
   "source": [
    "tensorboard = tf.keras.callbacks.TensorBoard(log_dir='logs/{}'.format(NAME))"
   ]
  },
  {
   "cell_type": "code",
   "execution_count": 86,
   "metadata": {},
   "outputs": [],
   "source": [
    "model = tf.keras.models.Sequential()\n",
    "\n",
    "# model.add(tf.keras.layers.Conv2D(64,(3,3), input_shape=X.shape[1:]))\n",
    "model.add(tf.keras.layers.Conv2D(64, (3, 3), activation='relu', input_shape=(50, 50, 3)))\n",
    "# model.add(tf.keras.layers.Activation(\"relu\"))\n",
    "model.add(tf.keras.layers.MaxPooling2D(pool_size=(2,2)))\n",
    "\n",
    "model.add(tf.keras.layers.Conv2D(64,(3,3)))\n",
    "model.add(tf.keras.layers.Activation(\"relu\"))\n",
    "model.add(tf.keras.layers.MaxPooling2D(pool_size=(2,2)))\n",
    "\n",
    "model.add(tf.keras.layers.Flatten())\n",
    "\n",
    "model.add(tf.keras.layers.Dense(64))\n",
    "model.add(tf.keras.layers.Activation(\"relu\"))\n",
    "\n",
    "\n",
    "model.add(tf.keras.layers.Dense(5))\n",
    "\n",
    "model.add(tf.keras.layers.Activation('softmax'))\n",
    "\n",
    "model.compile(optimizer='adam',\n",
    "              loss='sparse_categorical_crossentropy',\n",
    "              metrics=['accuracy'])"
   ]
  },
  {
   "cell_type": "code",
   "execution_count": 87,
   "metadata": {},
   "outputs": [
    {
     "name": "stdout",
     "output_type": "stream",
     "text": [
      "_________________________________________________________________\n",
      "Layer (type)                 Output Shape              Param #   \n",
      "=================================================================\n",
      "conv2d_23 (Conv2D)           (None, 48, 48, 64)        1792      \n",
      "_________________________________________________________________\n",
      "max_pooling2d_23 (MaxPooling (None, 24, 24, 64)        0         \n",
      "_________________________________________________________________\n",
      "conv2d_24 (Conv2D)           (None, 22, 22, 64)        36928     \n",
      "_________________________________________________________________\n",
      "activation_34 (Activation)   (None, 22, 22, 64)        0         \n",
      "_________________________________________________________________\n",
      "max_pooling2d_24 (MaxPooling (None, 11, 11, 64)        0         \n",
      "_________________________________________________________________\n",
      "flatten_12 (Flatten)         (None, 7744)              0         \n",
      "_________________________________________________________________\n",
      "dense_23 (Dense)             (None, 64)                495680    \n",
      "_________________________________________________________________\n",
      "activation_35 (Activation)   (None, 64)                0         \n",
      "_________________________________________________________________\n",
      "dense_24 (Dense)             (None, 5)                 325       \n",
      "_________________________________________________________________\n",
      "activation_36 (Activation)   (None, 5)                 0         \n",
      "=================================================================\n",
      "Total params: 534,725\n",
      "Trainable params: 534,725\n",
      "Non-trainable params: 0\n",
      "_________________________________________________________________\n"
     ]
    }
   ],
   "source": [
    "model.summary()"
   ]
  },
  {
   "cell_type": "code",
   "execution_count": 97,
   "metadata": {},
   "outputs": [
    {
     "name": "stdout",
     "output_type": "stream",
     "text": [
      "Train on 700 samples, validate on 175 samples\n",
      "Epoch 1/30\n",
      "700/700 [==============================] - 3s 4ms/step - loss: 1.6092 - acc: 0.2100 - val_loss: 1.6136 - val_acc: 0.1600\n",
      "Epoch 2/30\n",
      "700/700 [==============================] - 3s 4ms/step - loss: 1.6088 - acc: 0.2100 - val_loss: 1.6127 - val_acc: 0.1600\n",
      "Epoch 3/30\n",
      "700/700 [==============================] - 3s 4ms/step - loss: 1.6074 - acc: 0.2100 - val_loss: 1.6097 - val_acc: 0.1600\n",
      "Epoch 4/30\n",
      "700/700 [==============================] - 3s 4ms/step - loss: 1.5975 - acc: 0.2129 - val_loss: 1.5735 - val_acc: 0.1886\n",
      "Epoch 5/30\n",
      "700/700 [==============================] - 3s 4ms/step - loss: 1.5318 - acc: 0.2871 - val_loss: 1.4810 - val_acc: 0.2800\n",
      "Epoch 6/30\n",
      "700/700 [==============================] - 3s 4ms/step - loss: 1.4590 - acc: 0.3714 - val_loss: 1.4387 - val_acc: 0.4171\n",
      "Epoch 7/30\n",
      "700/700 [==============================] - 3s 4ms/step - loss: 1.3621 - acc: 0.4714 - val_loss: 1.3314 - val_acc: 0.4514\n",
      "Epoch 8/30\n",
      "700/700 [==============================] - 3s 4ms/step - loss: 1.2515 - acc: 0.4857 - val_loss: 1.2641 - val_acc: 0.4971\n",
      "Epoch 9/30\n",
      "700/700 [==============================] - 3s 4ms/step - loss: 1.2468 - acc: 0.5000 - val_loss: 1.2913 - val_acc: 0.4743\n",
      "Epoch 10/30\n",
      "700/700 [==============================] - 3s 4ms/step - loss: 1.1678 - acc: 0.5400 - val_loss: 1.2474 - val_acc: 0.4857\n",
      "Epoch 11/30\n",
      "700/700 [==============================] - 3s 4ms/step - loss: 1.1445 - acc: 0.5514 - val_loss: 1.2225 - val_acc: 0.5143\n",
      "Epoch 12/30\n",
      "700/700 [==============================] - 3s 4ms/step - loss: 1.1095 - acc: 0.5700 - val_loss: 1.2908 - val_acc: 0.4743\n",
      "Epoch 13/30\n",
      "700/700 [==============================] - 3s 4ms/step - loss: 1.0994 - acc: 0.5643 - val_loss: 1.2465 - val_acc: 0.4629\n",
      "Epoch 14/30\n",
      "700/700 [==============================] - 3s 4ms/step - loss: 1.0638 - acc: 0.5757 - val_loss: 1.2277 - val_acc: 0.5143\n",
      "Epoch 15/30\n",
      "700/700 [==============================] - 3s 4ms/step - loss: 1.0687 - acc: 0.5829 - val_loss: 1.2178 - val_acc: 0.5143\n",
      "Epoch 16/30\n",
      "700/700 [==============================] - 3s 4ms/step - loss: 1.0491 - acc: 0.5986 - val_loss: 1.2637 - val_acc: 0.4800\n",
      "Epoch 17/30\n",
      "700/700 [==============================] - 3s 4ms/step - loss: 1.0449 - acc: 0.6043 - val_loss: 1.2153 - val_acc: 0.5143\n",
      "Epoch 18/30\n",
      "700/700 [==============================] - 3s 4ms/step - loss: 1.0184 - acc: 0.5943 - val_loss: 1.2316 - val_acc: 0.4971\n",
      "Epoch 19/30\n",
      "700/700 [==============================] - 3s 5ms/step - loss: 1.0063 - acc: 0.6086 - val_loss: 1.2200 - val_acc: 0.5200\n",
      "Epoch 20/30\n",
      "700/700 [==============================] - 3s 4ms/step - loss: 0.9871 - acc: 0.6200 - val_loss: 1.2094 - val_acc: 0.5257\n",
      "Epoch 21/30\n",
      "700/700 [==============================] - 3s 4ms/step - loss: 0.9559 - acc: 0.6286 - val_loss: 1.2241 - val_acc: 0.5086\n",
      "Epoch 22/30\n",
      "700/700 [==============================] - 3s 4ms/step - loss: 0.9687 - acc: 0.6243 - val_loss: 1.2189 - val_acc: 0.4971\n",
      "Epoch 23/30\n",
      "700/700 [==============================] - 3s 4ms/step - loss: 0.9369 - acc: 0.6357 - val_loss: 1.2672 - val_acc: 0.5200\n",
      "Epoch 24/30\n",
      "700/700 [==============================] - 3s 4ms/step - loss: 0.9115 - acc: 0.6443 - val_loss: 1.2441 - val_acc: 0.4857\n",
      "Epoch 25/30\n",
      "700/700 [==============================] - 3s 4ms/step - loss: 0.8952 - acc: 0.6429 - val_loss: 1.2208 - val_acc: 0.4914\n",
      "Epoch 26/30\n",
      "700/700 [==============================] - 3s 4ms/step - loss: 0.8825 - acc: 0.6771 - val_loss: 1.3421 - val_acc: 0.4857\n",
      "Epoch 27/30\n",
      "700/700 [==============================] - 3s 4ms/step - loss: 0.9248 - acc: 0.6443 - val_loss: 1.3187 - val_acc: 0.4571\n",
      "Epoch 28/30\n",
      "700/700 [==============================] - 3s 4ms/step - loss: 0.8901 - acc: 0.6686 - val_loss: 1.2749 - val_acc: 0.4857\n",
      "Epoch 29/30\n",
      "700/700 [==============================] - 3s 4ms/step - loss: 0.8650 - acc: 0.6729 - val_loss: 1.2908 - val_acc: 0.4971\n",
      "Epoch 30/30\n",
      "700/700 [==============================] - 3s 4ms/step - loss: 0.8478 - acc: 0.6771 - val_loss: 1.2908 - val_acc: 0.4971\n"
     ]
    }
   ],
   "source": [
    "# history = model.fit(X,y,batch_size=32, epochs = 10, validation_split=0.3, callbacks = [tensorboard])\n",
    "history = model.fit(train_X, train_y, epochs=30, \n",
    "                    validation_data=(test_X, test_y))"
   ]
  },
  {
   "cell_type": "code",
   "execution_count": 98,
   "metadata": {},
   "outputs": [
    {
     "data": {
      "image/png": "[encoded data removed]",
      "text/plain": [
       "<matplotlib.figure.Figure at 0x12be2ca58>"
      ]
     },
     "metadata": {},
     "output_type": "display_data"
    }
   ],
   "source": [
    "import matplotlib.pyplot as plt\n",
    "plt.plot(history.history['acc'], label='acc')\n",
    "plt.plot(history.history['val_acc'], label = 'val_loss')\n",
    "plt.xlabel('Epoch')\n",
    "plt.ylabel('Accuracy')\n",
    "plt.ylim([0.0, 1])\n",
    "plt.legend(loc='lower right')\n",
    "\n",
    "test_loss, test_acc = model.evaluate(test_X,  test_y, verbose=2)"
   ]
  },
  {
   "cell_type": "code",
   "execution_count": 94,
   "metadata": {},
   "outputs": [
    {
     "data": {
      "text/plain": [
       "{'acc': [0.2100000002554485, 0.210000000170299, 0.2100000002554485],\n",
       " 'loss': [1.609373517717634, 1.6091318035125732, 1.6090504326139177],\n",
       " 'val_acc': [0.16000000059604644, 0.16000000059604644, 0.16000000059604644],\n",
       " 'val_loss': [1.6108621644973755, 1.6115084736687797, 1.6120382002421787]}"
      ]
     },
     "execution_count": 94,
     "metadata": {},
     "output_type": "execute_result"
    }
   ],
   "source": [
    "history.history"
   ]
  },
  {
   "cell_type": "code",
   "execution_count": 95,
   "metadata": {},
   "outputs": [
    {
     "data": {
      "text/plain": [
       "[0.16000000059604644, 0.16000000059604644, 0.16000000059604644]"
      ]
     },
     "execution_count": 95,
     "metadata": {},
     "output_type": "execute_result"
    }
   ],
   "source": []
  },
  {
   "cell_type": "code",
   "execution_count": null,
   "metadata": {},
   "outputs": [],
   "source": []
  },
  {
   "cell_type": "code",
   "execution_count": null,
   "metadata": {},
   "outputs": [],
   "source": []
  },
  {
   "cell_type": "code",
   "execution_count": null,
   "metadata": {},
   "outputs": [],
   "source": []
  },
  {
   "cell_type": "code",
   "execution_count": null,
   "metadata": {},
   "outputs": [],
   "source": []
  }
 ],
 "metadata": {
  "kernelspec": {
   "display_name": "Python 3",
   "language": "python",
   "name": "python3"
  },
  "language_info": {
   "codemirror_mode": {
    "name": "ipython",
    "version": 3
   },
   "file_extension": ".py",
   "mimetype": "text/x-python",
   "name": "python",
   "nbconvert_exporter": "python",
   "pygments_lexer": "ipython3",
   "version": "3.6.1"
  }
 },
 "nbformat": 4,
 "nbformat_minor": 2
}
